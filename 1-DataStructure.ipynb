{
 "cells": [
  {
   "cell_type": "markdown",
   "metadata": {},
   "source": [
    "# Fundamental Data Structure :\n",
    "\n",
    "The fundamental data structure in python includes \n",
    "\n",
    "- **Primitive type** ( ***Integer, Float, String***, and ***Boolean***) and \n",
    "- **Non-Primitive type** ( ***Array, List, Tuples, Dictionary, Set***, and ***File***) \n",
    "\n",
    "In this tutorial, we are going to discudd about List, Tuples, Set and Dictionary. \n",
    "\n",
    "\n",
    "\n",
    "### List\n",
    "\n",
    "List is built in data structure in python. It is \n",
    "- Mutable i.e., we can change or edite the size of the list by appending, inserting and deleting the elements.\n",
    "- List can hold heterogeneous objects (e.g., integer, string, boolean)\n",
    "\n",
    "Lets try to understand the List:"
   ]
  },
  {
   "cell_type": "code",
   "execution_count": null,
   "metadata": {},
   "outputs": [],
   "source": [
    "L=[]"
   ]
  },
  {
   "cell_type": "markdown",
   "metadata": {},
   "source": [
    "- To create a list from scratch."
   ]
  },
  {
   "cell_type": "code",
   "execution_count": 1,
   "metadata": {},
   "outputs": [
    {
     "data": {
      "text/plain": [
       "[1, 2, 3, 4, 5, 6, 31, 35]"
      ]
     },
     "execution_count": 1,
     "metadata": {},
     "output_type": "execute_result"
    }
   ],
   "source": [
    "L = [1,2,3,4,5,6,31,35]\n",
    "L"
   ]
  },
  {
   "cell_type": "code",
   "execution_count": null,
   "metadata": {},
   "outputs": [],
   "source": [
    "- Indexing of list."
   ]
  },
  {
   "cell_type": "code",
   "execution_count": 2,
   "metadata": {},
   "outputs": [
    {
     "data": {
      "text/plain": [
       "(1, 3, 6)"
      ]
     },
     "execution_count": 2,
     "metadata": {},
     "output_type": "execute_result"
    }
   ],
   "source": [
    "L[0],L[2],L[5]\n",
    "\n"
   ]
  },
  {
   "cell_type": "code",
   "execution_count": null,
   "metadata": {},
   "outputs": [],
   "source": [
    "- Revers indexing is also possible."
   ]
  },
  {
   "cell_type": "code",
   "execution_count": 3,
   "metadata": {},
   "outputs": [
    {
     "data": {
      "text/plain": [
       "(35, 5)"
      ]
     },
     "execution_count": 3,
     "metadata": {},
     "output_type": "execute_result"
    }
   ],
   "source": [
    "L[-1],L[-4]\n"
   ]
  },
  {
   "cell_type": "markdown",
   "metadata": {},
   "source": [
    "- To find the length of list."
   ]
  },
  {
   "cell_type": "code",
   "execution_count": 7,
   "metadata": {},
   "outputs": [
    {
     "data": {
      "text/plain": [
       "8"
      ]
     },
     "execution_count": 7,
     "metadata": {},
     "output_type": "execute_result"
    }
   ],
   "source": [
    "len(L)"
   ]
  },
  {
   "cell_type": "markdown",
   "metadata": {},
   "source": [
    "- To add the element from last."
   ]
  },
  {
   "cell_type": "code",
   "execution_count": 4,
   "metadata": {},
   "outputs": [
    {
     "data": {
      "text/plain": [
       "[1, 2, 3, 4, 5, 6, 31, 35, 40]"
      ]
     },
     "execution_count": 4,
     "metadata": {},
     "output_type": "execute_result"
    }
   ],
   "source": [
    "L.append(40)\n",
    "L"
   ]
  },
  {
   "cell_type": "markdown",
   "metadata": {},
   "source": [
    "- To find the sum of the elements (if they are of same types like int. double etc)"
   ]
  },
  {
   "cell_type": "code",
   "execution_count": 5,
   "metadata": {},
   "outputs": [
    {
     "data": {
      "text/plain": [
       "127"
      ]
     },
     "execution_count": 5,
     "metadata": {},
     "output_type": "execute_result"
    }
   ],
   "source": [
    "sum(L)"
   ]
  },
  {
   "cell_type": "markdown",
   "metadata": {},
   "source": [
    "- To find maximum and minimum of the list"
   ]
  },
  {
   "cell_type": "code",
   "execution_count": 15,
   "metadata": {},
   "outputs": [
    {
     "data": {
      "text/plain": [
       "(34, 1)"
      ]
     },
     "execution_count": 15,
     "metadata": {},
     "output_type": "execute_result"
    }
   ],
   "source": [
    "max(L), min(L)"
   ]
  },
  {
   "cell_type": "markdown",
   "metadata": {},
   "source": [
    "- To create a list of heterogeneous element types."
   ]
  },
  {
   "cell_type": "code",
   "execution_count": 8,
   "metadata": {},
   "outputs": [],
   "source": [
    "L = [1,2.0,3,4,5,\"physics\",True, False]\n"
   ]
  },
  {
   "cell_type": "markdown",
   "metadata": {},
   "source": [
    ".To find type of element of list"
   ]
  },
  {
   "cell_type": "code",
   "execution_count": 9,
   "metadata": {},
   "outputs": [
    {
     "data": {
      "text/plain": [
       "(float, bool)"
      ]
     },
     "execution_count": 9,
     "metadata": {},
     "output_type": "execute_result"
    }
   ],
   "source": [
    "type(L[1]),type(L[6])"
   ]
  },
  {
   "cell_type": "markdown",
   "metadata": {},
   "source": [
    ".To create a list of list"
   ]
  },
  {
   "cell_type": "code",
   "execution_count": 10,
   "metadata": {},
   "outputs": [],
   "source": [
    "L = [[1,4,3],[3,4,5],[5,7,9]]"
   ]
  },
  {
   "cell_type": "markdown",
   "metadata": {},
   "source": [
    "# - To find list inside a list."
   ]
  },
  {
   "cell_type": "code",
   "execution_count": 13,
   "metadata": {},
   "outputs": [
    {
     "data": {
      "text/plain": [
       "[3, 4, 5]"
      ]
     },
     "execution_count": 13,
     "metadata": {},
     "output_type": "execute_result"
    }
   ],
   "source": [
    "L[1]"
   ]
  },
  {
   "cell_type": "code",
   "execution_count": 14,
   "metadata": {
    "scrolled": true
   },
   "outputs": [
    {
     "data": {
      "text/plain": [
       "3"
      ]
     },
     "execution_count": 14,
     "metadata": {},
     "output_type": "execute_result"
    }
   ],
   "source": [
    "L[0][2]\n"
   ]
  },
  {
   "cell_type": "markdown",
   "metadata": {},
   "source": [
    "- To add two list. It is not as ususal addition. The elements are accumulated."
   ]
  },
  {
   "cell_type": "code",
   "execution_count": 15,
   "metadata": {},
   "outputs": [
    {
     "data": {
      "text/plain": [
       "([1, 2, 3, 2, 4, 5], {1, 2, 3, 4, 5})"
      ]
     },
     "execution_count": 15,
     "metadata": {},
     "output_type": "execute_result"
    }
   ],
   "source": [
    "L1 = [1,2,3] ; L2 = [2,4,5]\n",
    "L1+L2, set(L1+L2)"
   ]
  },
  {
   "cell_type": "markdown",
   "metadata": {},
   "source": [
    "- To add element from end of the list"
   ]
  },
  {
   "cell_type": "code",
   "execution_count": 16,
   "metadata": {},
   "outputs": [],
   "source": [
    "L = [1,4,2,9,5,6,7]\n",
    "L.append(90)\n"
   ]
  },
  {
   "cell_type": "code",
   "execution_count": 17,
   "metadata": {},
   "outputs": [
    {
     "data": {
      "text/plain": [
       "[1, 4, 2, 9, 5, 6, 7, 90]"
      ]
     },
     "execution_count": 17,
     "metadata": {},
     "output_type": "execute_result"
    }
   ],
   "source": [
    "L"
   ]
  },
  {
   "cell_type": "code",
   "execution_count": 18,
   "metadata": {},
   "outputs": [
    {
     "data": {
      "text/plain": [
       "[100, 1, 4, 2, 3, 5, 6, 7]"
      ]
     },
     "execution_count": 18,
     "metadata": {},
     "output_type": "execute_result"
    }
   ],
   "source": [
    "L = [1,4,2,3,5,6,7]\n",
    "L.insert(0,100)\n",
    "L"
   ]
  },
  {
   "cell_type": "markdown",
   "metadata": {},
   "source": [
    "- To remove specific element form list. It will remove the first occurance."
   ]
  },
  {
   "cell_type": "code",
   "execution_count": 32,
   "metadata": {},
   "outputs": [
    {
     "data": {
      "text/plain": [
       "[1, 4, 2, 3, 6, 7, 4]"
      ]
     },
     "execution_count": 32,
     "metadata": {},
     "output_type": "execute_result"
    }
   ],
   "source": [
    "L = [1,4,2,3,5,6,7,4]\n",
    "L.remove(5)\n",
    "L"
   ]
  },
  {
   "cell_type": "markdown",
   "metadata": {},
   "source": [
    "- To remove the element from specific index"
   ]
  },
  {
   "cell_type": "code",
   "execution_count": 35,
   "metadata": {},
   "outputs": [
    {
     "data": {
      "text/plain": [
       "[1, 4, 2, 3, 5, 6]"
      ]
     },
     "execution_count": 35,
     "metadata": {},
     "output_type": "execute_result"
    }
   ],
   "source": [
    "L = [1,4,2,3,5,6,7]\n",
    "L.pop(-1)\n",
    "L"
   ]
  },
  {
   "cell_type": "markdown",
   "metadata": {},
   "source": [
    "- To sort the list"
   ]
  },
  {
   "cell_type": "code",
   "execution_count": 19,
   "metadata": {},
   "outputs": [],
   "source": [
    "L = [1,10,6,30,5,60,7]\n",
    "L.sort()\n"
   ]
  },
  {
   "cell_type": "code",
   "execution_count": 20,
   "metadata": {},
   "outputs": [
    {
     "data": {
      "text/plain": [
       "[1, 5, 6, 7, 10, 30, 60]"
      ]
     },
     "execution_count": 20,
     "metadata": {},
     "output_type": "execute_result"
    }
   ],
   "source": [
    "L"
   ]
  },
  {
   "cell_type": "markdown",
   "metadata": {},
   "source": [
    "- To reverse the list"
   ]
  },
  {
   "cell_type": "code",
   "execution_count": 37,
   "metadata": {},
   "outputs": [
    {
     "data": {
      "text/plain": [
       "[7, 6, 5, 3, 2, 4, 1]"
      ]
     },
     "execution_count": 37,
     "metadata": {},
     "output_type": "execute_result"
    }
   ],
   "source": [
    "L = [1,4,2,3,5,6,7]\n",
    "L.reverse()\n",
    "L"
   ]
  },
  {
   "cell_type": "markdown",
   "metadata": {},
   "source": [
    "- List comprehension"
   ]
  },
  {
   "cell_type": "code",
   "execution_count": 37,
   "metadata": {},
   "outputs": [
    {
     "name": "stdout",
     "output_type": "stream",
     "text": [
      "[0, 1, 2, 3, 4, 5, 6, 7, 8, 9, 10, 11, 12, 13, 14, 15, 16, 17, 18, 19, 20, 21, 22, 23, 24, 25, 26, 27, 28, 29, 30, 31, 32, 33, 34, 35, 36, 37, 38, 39, 40, 41, 42, 43, 44, 45, 46, 47, 48, 49, 50, 51, 52, 53, 54, 55, 56, 57, 58, 59, 60, 61, 62, 63, 64, 65, 66, 67, 68, 69, 70, 71, 72, 73, 74, 75, 76, 77, 78, 79, 80, 81, 82, 83, 84, 85, 86, 87, 88, 89, 90, 91]\n"
     ]
    }
   ],
   "source": [
    "L = [x for x in range(92)]\n",
    "print(L)"
   ]
  },
  {
   "cell_type": "code",
   "execution_count": 38,
   "metadata": {},
   "outputs": [
    {
     "name": "stdout",
     "output_type": "stream",
     "text": [
      "[0, 3, 6, 9, 12, 15, 18, 21, 24, 27, 30, 33, 36, 39, 42, 45, 48, 51, 54, 57, 60, 63, 66, 69, 72, 75, 78, 81, 84, 87, 90, 93, 96, 99]\n"
     ]
    }
   ],
   "source": [
    "L = [x for x in range(100) if x%3==0]\n",
    "print(L)"
   ]
  },
  {
   "cell_type": "code",
   "execution_count": 39,
   "metadata": {},
   "outputs": [
    {
     "data": {
      "text/plain": [
       "14"
      ]
     },
     "execution_count": 39,
     "metadata": {},
     "output_type": "execute_result"
    }
   ],
   "source": [
    "import random as rn\n",
    "rn.randint(0,90)"
   ]
  },
  {
   "cell_type": "code",
   "execution_count": 83,
   "metadata": {},
   "outputs": [
    {
     "name": "stdout",
     "output_type": "stream",
     "text": [
      "[89, 28, 17, 21, 30, 12, 2, 18, 44, 35, 39, 34, 36, 15, 62, 31, 29, 67, 89, 84, 52, 99, 12, 2, 65, 93, 37, 60, 65, 65, 67, 65, 83, 96, 6, 16, 96, 38, 43, 28, 38, 4, 60, 48, 5, 50, 82, 27, 75, 94, 3, 11, 55, 87, 56, 48, 71, 40, 7, 20, 45, 29, 100, 4, 23, 86, 0, 46, 69, 60, 85, 27, 45, 93, 6, 68, 13, 66, 89, 59, 46, 89, 41, 84, 69, 11, 22, 38, 24, 74, 82, 6, 12, 84, 14, 68, 16, 2, 91, 62, 57, 72, 98, 4, 98, 64, 72, 57, 73, 12, 78, 40, 0, 10, 36, 52, 71, 42, 27, 94, 32, 82, 22, 89, 37, 26, 55, 80, 49, 48, 69, 34, 48, 97, 39, 82, 78, 97, 11, 38, 77, 62, 55, 95, 52, 42, 61, 94, 100, 86, 28, 41, 75, 13, 40, 22, 7, 78, 2, 51, 84, 30, 45, 39, 54, 72, 88, 48, 10, 78, 9, 44, 18, 36, 23, 83, 1, 88, 37, 87, 85, 4, 65, 55, 11, 97, 90, 77, 1, 41, 75, 37, 43, 3, 45, 38, 4, 16, 87, 47]\n"
     ]
    }
   ],
   "source": [
    "import random as rn\n",
    "R = [rn.randint(0,100) for k in range(200)]\n",
    "print(R)"
   ]
  },
  {
   "cell_type": "code",
   "execution_count": 40,
   "metadata": {},
   "outputs": [
    {
     "name": "stdout",
     "output_type": "stream",
     "text": [
      "['C', 'A', 'A', 'T', 'C', 'T', 'T', 'C', 'G', 'G', 'A', 'A', 'T', 'A', 'T', 'C', 'T', 'C', 'C', 'A', 'T', 'T', 'T', 'T', 'C', 'A', 'C', 'A', 'C', 'T', 'C', 'G', 'C', 'T', 'T', 'T', 'A', 'T', 'T', 'G', 'C', 'C', 'A', 'C', 'T', 'T', 'A', 'G', 'T', 'T', 'A', 'T', 'G', 'G', 'G', 'A', 'A', 'A', 'A', 'T', 'A', 'G', 'A', 'T', 'G', 'T', 'C', 'A', 'A', 'C', 'A', 'T', 'T', 'C', 'A', 'A', 'A', 'C', 'G', 'G', 'G', 'G', 'A', 'G', 'C', 'C', 'G', 'T', 'G', 'A', 'T', 'C', 'G', 'G', 'T', 'A', 'G', 'A', 'A', 'T']\n"
     ]
    }
   ],
   "source": [
    "R = [rn.choice(['A','T','G','C']) for i in range(100)]\n",
    "print(R)"
   ]
  },
  {
   "cell_type": "code",
   "execution_count": 85,
   "metadata": {},
   "outputs": [
    {
     "data": {
      "text/plain": [
       "'ATCTTCACGGATGGCTGCATATTGGGACGGCCATAAGGGAAGCCAACGCGTAAAGGTTAGTTGACGCCGTCTACGGGTGAAGCTTCCAAGACGCTTTTAATCCTGACGCAGACCCAGTAGCAGCGGGTTTAACTGATAGGGCGTCCTGGCGAGCCATATTCACTGTGTTTCTGCAGGCTTCGCTCGAGTGACCTAGCTTT'"
      ]
     },
     "execution_count": 85,
     "metadata": {},
     "output_type": "execute_result"
    }
   ],
   "source": [
    "DNA = ''.join(R)\n",
    "DNA"
   ]
  },
  {
   "cell_type": "code",
   "execution_count": 86,
   "metadata": {},
   "outputs": [
    {
     "data": {
      "text/plain": [
       "(44, 9, 1)"
      ]
     },
     "execution_count": 86,
     "metadata": {},
     "output_type": "execute_result"
    }
   ],
   "source": [
    "DNA.count('A'), DNA.count('AT'), DNA.count('ATG')"
   ]
  },
  {
   "cell_type": "markdown",
   "metadata": {},
   "source": [
    "#### Mini  Assignment:\n",
    "Create a DNA string of 10,000 characters and count the following: A,T,G,C,all combination of two charaters, all combinations of three characters."
   ]
  },
  {
   "cell_type": "code",
   "execution_count": 36,
   "metadata": {},
   "outputs": [],
   "source": [
    "import random as rn"
   ]
  },
  {
   "cell_type": "code",
   "execution_count": 37,
   "metadata": {},
   "outputs": [
    {
     "name": "stdout",
     "output_type": "stream",
     "text": [
      "['C', 'G', 'C', 'G', 'A', 'C', 'C', 'G', 'C', 'T', 'C', 'A', 'T', 'T', 'T', 'T', 'G', 'C', 'G', 'A', 'G', 'T', 'C', 'C', 'G', 'A', 'T', 'C', 'G', 'G', 'A', 'G', 'T', 'G', 'T', 'C', 'T', 'A', 'A', 'C', 'T', 'T', 'T', 'A', 'T', 'G', 'A', 'T', 'A', 'G', 'A', 'G', 'G', 'G', 'T', 'C', 'C', 'A', 'C', 'A', 'T', 'A', 'A', 'T', 'G', 'T', 'G', 'C', 'T', 'T', 'A', 'T', 'T', 'A', 'G', 'T', 'T', 'T', 'C', 'C', 'A', 'T', 'C', 'C', 'C', 'T', 'T', 'C', 'G', 'T', 'A', 'G', 'C', 'A', 'A', 'A', 'G', 'C', 'G', 'G', 'A', 'C', 'G', 'T', 'G', 'A', 'G', 'A', 'T', 'C', 'T', 'C', 'T', 'T', 'C', 'A', 'T', 'C', 'T', 'T', 'G', 'T', 'T', 'G', 'G', 'C', 'G', 'T', 'C', 'T', 'A', 'C', 'A', 'C', 'A', 'T', 'T', 'A', 'G', 'A', 'T', 'G', 'A', 'G', 'C', 'T', 'A', 'C', 'G', 'A', 'G', 'G', 'C', 'A', 'C', 'G', 'T', 'G', 'G', 'T', 'C', 'A', 'T', 'T', 'C', 'G', 'T', 'T', 'C', 'T', 'G', 'G', 'G', 'T', 'T', 'G', 'G', 'G', 'G', 'G', 'G', 'T', 'T', 'T', 'A', 'A', 'A', 'G', 'C', 'A', 'A', 'G', 'G', 'G', 'A', 'A', 'C', 'T', 'G', 'A', 'T', 'T', 'A', 'G', 'T', 'G', 'T', 'T', 'T', 'A', 'T', 'A', 'T', 'G', 'G', 'T', 'T', 'C', 'C', 'C', 'G', 'T', 'A', 'C', 'G', 'A', 'A', 'G', 'C', 'A', 'T', 'T', 'A', 'G', 'G', 'C', 'A', 'A', 'T', 'C', 'T', 'T', 'T', 'T', 'A', 'C', 'T', 'C', 'A', 'A', 'G', 'A', 'A', 'T', 'T', 'C', 'G', 'G', 'C', 'T', 'A', 'A', 'G', 'T', 'T', 'A', 'T', 'A', 'C', 'G', 'A', 'C', 'G', 'G', 'C', 'C', 'A', 'G', 'G', 'A', 'T', 'G', 'T', 'A', 'T', 'A', 'C', 'C', 'C', 'T', 'A', 'G', 'T', 'T', 'A', 'A', 'C', 'C', 'C', 'G', 'T', 'G', 'G', 'A', 'A', 'G', 'T', 'G', 'C', 'A', 'G', 'C', 'C', 'T', 'G', 'G', 'C', 'G', 'C', 'A', 'T', 'G', 'A', 'C', 'T', 'A', 'G', 'G', 'T', 'C', 'C', 'T', 'G', 'G', 'G', 'C', 'G', 'G', 'C', 'T', 'A', 'G', 'A', 'T', 'C', 'T', 'G', 'A', 'A', 'G', 'T', 'G', 'C', 'A', 'A', 'T', 'C', 'T', 'A', 'T', 'A', 'G', 'A', 'A', 'C', 'C', 'A', 'C', 'A', 'G', 'C', 'A', 'G', 'C', 'C', 'C', 'G', 'A', 'C', 'G', 'G', 'G', 'G', 'G', 'T', 'T', 'G', 'T', 'C', 'G', 'G', 'G', 'A', 'T', 'T', 'T', 'A', 'C', 'T', 'G', 'A', 'C', 'G', 'T', 'C', 'G', 'T', 'G', 'A', 'A', 'T', 'T', 'G', 'A', 'T', 'G', 'G', 'C', 'C', 'T', 'A', 'A', 'T', 'A', 'C', 'T', 'G', 'C', 'A', 'T', 'C', 'A', 'T', 'A', 'G', 'A', 'C', 'T', 'C', 'T', 'G', 'G', 'A', 'G', 'G', 'C', 'A', 'G', 'T', 'T', 'G', 'A', 'C', 'C', 'A', 'A', 'A', 'A', 'G', 'G', 'G', 'A', 'C', 'C', 'A', 'C', 'C', 'G', 'T', 'A', 'C', 'G', 'G', 'C', 'T', 'T', 'A', 'A', 'T', 'G', 'T', 'T', 'T', 'C', 'A', 'T', 'C', 'A', 'A', 'T', 'C', 'C', 'T', 'G', 'A', 'C', 'G', 'G', 'C', 'G', 'C', 'A', 'G', 'T', 'C', 'C', 'G', 'T', 'G', 'A', 'A', 'A', 'A', 'C', 'G', 'C', 'A', 'G', 'G', 'C', 'T', 'T', 'A', 'T', 'C', 'A', 'T', 'C', 'A', 'C', 'A', 'G', 'C', 'T', 'C', 'G', 'T', 'G', 'C', 'A', 'A', 'C', 'T', 'C', 'C', 'C', 'C', 'A', 'T', 'G', 'G', 'C', 'T', 'T', 'C', 'G', 'T', 'C', 'T', 'T', 'A', 'T', 'G', 'A', 'C', 'G', 'A', 'C', 'G', 'G', 'T', 'A', 'A', 'C', 'A', 'A', 'C', 'A', 'A', 'G', 'C', 'A', 'C', 'G', 'G', 'T', 'G', 'G', 'A', 'G', 'T', 'G', 'T', 'A', 'A', 'G', 'C', 'C', 'C', 'C', 'A', 'C', 'T', 'G', 'G', 'A', 'T', 'C', 'G', 'T', 'T', 'G', 'T', 'A', 'A', 'C', 'A', 'G', 'T', 'C', 'C', 'G', 'T', 'G', 'C', 'G', 'C', 'A', 'A', 'G', 'G', 'G', 'A', 'A', 'G', 'A', 'C', 'C', 'T', 'T', 'A', 'T', 'A', 'T', 'A', 'A', 'G', 'C', 'A', 'T', 'A', 'T', 'T', 'G', 'C', 'G', 'T', 'C', 'T', 'A', 'C', 'T', 'C', 'A', 'A', 'T', 'G', 'G', 'C', 'C', 'C', 'T', 'A', 'A', 'C', 'A', 'T', 'C', 'C', 'A', 'T', 'G', 'A', 'T', 'A', 'T', 'T', 'C', 'A', 'T', 'G', 'C', 'G', 'C', 'T', 'G', 'C', 'C', 'T', 'G', 'A', 'A', 'A', 'C', 'G', 'C', 'G', 'T', 'T', 'G', 'G', 'G', 'C', 'G', 'G', 'G', 'T', 'G', 'C', 'C', 'G', 'G', 'A', 'T', 'G', 'C', 'A', 'G', 'A', 'A', 'G', 'G', 'C', 'G', 'C', 'T', 'A', 'G', 'A', 'T', 'A', 'C', 'C', 'G', 'C', 'C', 'A', 'T', 'T', 'A', 'C', 'T', 'G', 'A', 'G', 'T', 'G', 'C', 'T', 'T', 'A', 'C', 'G', 'T', 'T', 'T', 'A', 'T', 'G', 'A', 'A', 'A', 'G', 'G', 'C', 'T', 'T', 'C', 'T', 'A', 'T', 'G', 'G', 'G', 'G', 'T', 'A', 'T', 'G', 'C', 'T', 'G', 'C', 'C', 'T', 'T', 'G', 'A', 'C', 'T', 'T', 'G', 'G', 'A', 'G', 'T', 'A', 'C', 'G', 'C', 'A', 'G', 'C', 'T', 'C', 'A', 'A', 'T', 'A', 'G', 'C', 'A', 'A', 'G', 'G', 'T', 'G', 'G', 'A', 'C', 'G', 'C', 'A', 'C', 'A', 'C', 'C', 'A', 'A', 'C', 'T', 'C', 'G', 'C', 'T', 'G', 'G', 'A', 'T', 'T', 'G', 'A', 'C', 'G', 'G', 'C', 'T', 'C', 'G', 'G', 'T', 'C', 'A', 'G', 'T', 'A', 'T', 'A', 'A', 'G', 'A', 'T', 'G', 'T', 'A', 'T', 'T', 'G', 'C', 'A', 'A', 'T', 'G', 'C', 'C', 'A', 'G', 'C', 'C', 'T', 'G', 'G', 'T', 'A', 'G', 'G', 'A', 'G', 'C', 'C', 'T', 'A', 'T', 'G', 'T', 'G', 'A', 'G', 'T', 'G', 'A', 'T', 'C', 'C', 'C', 'A', 'T', 'T', 'T', 'C', 'C', 'T', 'C', 'A', 'A', 'A', 'G', 'A', 'T', 'G', 'G', 'G', 'C', 'A', 'T', 'T', 'A', 'G', 'C', 'A', 'C', 'A', 'C', 'T', 'A', 'T', 'C', 'G', 'C', 'T', 'C', 'T', 'C', 'T', 'A', 'A', 'T', 'C', 'G', 'T', 'G', 'T', 'G', 'A', 'C', 'G', 'T', 'A', 'A', 'A', 'C', 'A', 'G', 'C', 'A', 'G', 'G', 'C', 'T', 'C', 'T', 'G', 'C', 'G', 'G', 'T', 'T', 'G', 'A', 'A', 'T', 'C', 'A', 'C', 'A', 'C', 'C', 'A', 'T', 'T', 'A', 'G', 'A', 'T', 'C', 'A', 'G', 'C', 'T', 'T', 'A', 'G', 'C', 'C', 'T', 'A', 'G', 'A', 'A', 'A', 'T', 'A', 'C', 'C', 'C', 'A', 'G', 'G', 'G', 'A', 'A', 'C', 'T', 'G', 'T', 'T', 'G', 'A', 'C', 'A', 'G', 'A', 'T', 'C', 'A', 'C', 'A', 'T', 'C', 'C', 'T', 'A', 'T', 'C', 'A', 'C', 'C', 'T', 'A', 'G', 'T', 'C', 'C', 'A', 'G', 'G', 'A', 'G', 'A', 'T', 'A', 'G', 'T', 'A', 'A', 'A', 'T', 'C', 'G', 'C', 'G', 'C', 'T', 'G', 'G', 'T', 'C', 'C', 'C', 'T', 'A', 'A', 'C', 'T', 'T', 'A', 'A', 'T', 'A', 'C', 'C', 'G', 'A', 'C', 'A', 'A', 'C', 'A', 'G', 'A', 'G', 'T', 'C', 'A', 'A', 'A', 'T', 'G', 'T', 'T', 'T', 'C', 'C', 'A', 'C', 'C', 'T', 'T', 'A', 'T', 'A', 'T', 'T', 'G', 'G', 'A', 'G', 'C', 'A', 'G', 'C', 'A', 'A', 'T', 'A', 'G', 'C', 'T', 'T', 'A', 'C', 'C', 'T', 'T', 'A', 'G', 'C', 'A', 'C', 'G', 'G', 'T', 'T', 'A', 'G', 'C', 'G', 'C', 'G', 'A', 'A', 'G', 'A', 'G', 'T', 'T', 'G', 'C', 'T', 'T', 'G', 'G', 'T', 'C', 'T', 'T', 'A', 'G', 'C', 'G', 'T', 'C', 'T', 'A', 'T', 'A', 'T', 'C', 'G', 'A', 'G', 'T', 'A', 'G', 'T', 'A', 'G', 'C', 'C', 'A', 'T', 'T', 'G', 'G', 'A', 'G', 'G', 'T', 'T', 'C', 'G', 'T', 'A', 'A', 'T', 'C', 'T', 'T', 'C', 'A', 'C', 'C', 'A', 'G', 'T', 'A', 'A', 'T', 'C', 'T', 'C', 'G', 'G', 'A', 'C', 'G', 'T', 'A', 'G', 'T', 'T', 'G', 'A', 'A', 'A', 'G', 'T', 'T', 'T', 'T', 'T', 'G', 'G', 'C', 'T', 'A', 'C', 'C', 'G', 'G', 'A', 'T', 'T', 'G', 'T', 'G', 'G', 'G', 'G', 'T', 'A', 'G', 'G', 'A', 'T', 'A', 'G', 'A', 'G', 'G', 'A', 'C', 'A', 'G', 'A', 'A', 'C', 'C', 'C', 'G', 'G', 'T', 'G', 'C', 'A', 'A', 'C', 'C', 'T', 'A', 'C', 'T', 'G', 'G', 'A', 'T', 'A', 'G', 'C', 'T', 'A', 'G', 'G', 'C', 'T', 'G', 'A', 'A', 'G', 'G', 'G', 'T', 'A', 'T', 'A', 'A', 'C', 'T', 'G', 'G', 'C', 'A', 'A', 'A', 'C', 'T', 'A', 'T', 'C', 'G', 'T', 'A', 'G', 'A', 'C', 'A', 'T', 'A', 'T', 'G', 'T', 'G', 'C', 'A', 'C', 'G', 'T', 'T', 'A', 'C', 'T', 'T', 'C', 'C', 'C', 'A', 'T', 'A', 'C', 'G', 'A', 'C', 'T', 'C', 'C', 'A', 'A', 'G', 'G', 'C', 'A', 'A', 'T', 'C', 'T', 'G', 'C', 'G', 'C', 'G', 'T', 'G', 'C', 'C', 'C', 'A', 'C', 'T', 'T', 'T', 'A', 'C', 'G', 'G', 'G', 'T', 'T', 'G', 'T', 'T', 'A', 'G', 'A', 'C', 'G', 'T', 'A', 'C', 'C', 'A', 'C', 'T', 'G', 'A', 'G', 'A', 'G', 'C', 'A', 'T', 'A', 'C', 'G', 'C', 'C', 'G', 'T', 'C', 'C', 'A', 'C', 'G', 'T', 'T', 'C', 'C', 'T', 'G', 'T', 'G', 'A', 'C', 'A', 'G', 'G', 'G', 'G', 'T', 'C', 'G', 'T', 'C', 'G', 'C', 'T', 'G', 'G', 'T', 'G', 'C', 'G', 'T', 'A', 'C', 'G', 'G', 'G', 'T', 'T', 'C', 'G', 'G', 'G', 'T', 'G', 'A', 'T', 'G', 'A', 'C', 'A', 'T', 'A', 'C', 'G', 'C', 'T', 'G', 'T', 'T', 'C', 'A', 'G', 'G', 'C', 'A', 'A', 'C', 'A', 'T', 'T', 'C', 'A', 'A', 'T', 'G', 'G', 'T', 'T', 'G', 'T', 'C', 'A', 'C', 'A', 'C', 'G', 'G', 'C', 'G', 'A', 'C', 'T', 'C', 'G', 'C', 'C', 'A', 'A', 'G', 'G', 'C', 'C', 'T', 'C', 'A', 'T', 'T', 'C', 'G', 'T', 'G', 'A', 'G', 'C', 'G', 'G', 'G', 'A', 'A', 'T', 'G', 'T', 'C', 'C', 'C', 'C', 'A', 'G', 'C', 'C', 'G', 'T', 'A', 'T', 'A', 'C', 'C', 'T', 'C', 'G', 'C', 'A', 'T', 'A', 'C', 'G', 'T', 'C', 'A', 'A', 'C', 'T', 'G', 'C', 'T', 'T', 'C', 'C', 'A', 'A', 'C', 'T', 'A', 'A', 'G', 'C', 'C', 'C', 'C', 'A', 'T', 'T', 'A', 'A', 'A', 'T', 'C', 'C', 'T', 'T', 'G', 'T', 'A', 'T', 'T', 'A', 'T', 'T', 'T', 'G', 'T', 'C', 'G', 'A', 'T', 'T', 'A', 'C', 'A', 'G', 'A', 'T', 'T', 'A', 'T', 'T', 'T', 'T', 'G', 'G', 'T', 'A', 'T', 'A', 'C', 'A', 'G', 'C', 'G', 'C', 'A', 'G', 'T', 'T', 'T', 'C', 'G', 'A', 'T', 'C', 'T', 'A', 'T', 'C', 'C', 'G', 'T', 'G', 'C', 'G', 'C', 'C', 'G', 'C', 'A', 'C', 'T', 'A', 'A', 'T', 'A', 'G', 'A', 'G', 'T', 'A', 'G', 'T', 'C', 'A', 'T', 'T', 'T', 'A', 'A', 'G', 'A', 'A', 'C', 'T', 'A', 'C', 'G', 'A', 'A', 'C', 'G', 'T', 'A', 'T', 'A', 'C', 'A', 'G', 'T', 'T', 'G', 'G', 'C', 'G', 'A', 'T', 'G', 'C', 'G', 'C', 'A', 'C', 'G', 'C', 'C', 'C', 'C', 'A', 'A', 'G', 'A', 'C', 'C', 'T', 'A', 'A', 'C', 'A', 'G', 'A', 'C', 'G', 'A', 'C', 'T', 'T', 'A', 'A', 'A', 'T', 'G', 'T', 'G', 'G', 'T', 'A', 'C', 'G', 'C', 'C', 'T', 'C', 'G', 'G', 'T', 'C', 'G', 'G', 'C', 'A', 'G', 'T', 'A', 'A', 'G', 'T', 'T', 'C', 'C', 'A', 'C', 'G', 'A', 'G', 'T', 'A', 'G', 'C', 'T', 'A', 'C', 'T', 'G', 'T', 'G', 'T', 'A', 'G', 'T', 'G', 'T', 'C', 'C', 'A', 'G', 'C', 'C', 'G', 'G', 'A', 'C', 'T', 'G', 'C', 'C', 'G', 'A', 'C', 'A', 'G', 'T', 'C', 'T', 'G', 'T', 'C', 'G', 'A', 'C', 'C', 'C', 'G', 'A', 'A', 'G', 'A', 'T', 'G', 'G', 'T', 'G', 'A', 'G', 'T', 'G', 'G', 'G', 'C', 'A', 'A', 'A', 'G', 'C', 'C', 'G', 'A', 'A', 'A', 'A', 'G', 'T', 'C', 'G', 'C', 'T', 'T', 'G', 'A', 'C', 'G', 'T', 'A', 'C', 'C', 'T', 'A', 'G', 'T', 'G', 'C', 'A', 'A', 'C', 'G', 'G', 'A', 'C', 'A', 'C', 'T', 'G', 'T', 'A', 'C', 'A', 'A', 'T', 'C', 'C', 'T', 'G', 'C', 'G', 'G', 'C', 'C', 'G', 'G', 'A', 'C', 'T', 'G', 'A', 'G', 'A', 'T', 'A', 'T', 'T', 'G', 'A', 'T', 'T', 'T', 'A', 'C', 'G', 'T', 'G', 'T', 'G', 'T', 'G', 'T', 'G', 'G', 'A', 'G', 'T', 'A', 'A', 'T', 'A', 'T', 'G', 'A', 'G', 'T', 'T', 'G', 'G', 'A', 'A', 'A', 'G', 'T', 'C', 'T', 'G', 'T', 'G', 'A', 'C', 'T', 'C', 'T', 'T', 'G', 'G', 'A', 'T', 'C', 'T', 'A', 'T', 'C', 'C', 'A', 'G', 'C', 'T', 'T', 'C', 'A', 'C', 'G', 'A', 'G', 'A', 'A', 'G', 'T', 'G', 'A', 'G', 'T', 'A', 'A', 'C', 'G', 'C', 'T', 'C', 'T', 'T', 'C', 'C', 'A', 'C', 'G', 'A', 'G', 'A', 'G', 'C', 'G', 'C', 'C', 'G', 'G', 'T', 'A', 'C', 'G', 'T', 'A', 'A', 'A', 'A', 'A', 'C', 'T', 'A', 'C', 'A', 'C', 'G', 'G', 'C', 'C', 'T', 'C', 'T', 'G', 'C', 'T', 'G', 'G', 'G', 'T', 'G', 'G', 'G', 'G', 'G', 'C', 'G', 'C', 'G', 'G', 'C', 'C', 'A', 'G', 'A', 'A', 'T', 'T', 'A', 'T', 'T', 'G', 'C', 'A', 'A', 'T', 'A', 'A', 'A', 'A', 'T', 'A', 'A', 'A', 'A', 'G', 'C', 'T', 'A', 'T', 'A', 'T', 'A', 'T', 'A', 'G', 'G', 'T', 'G', 'G', 'C', 'A', 'T', 'G', 'C', 'T', 'C', 'G', 'A', 'A', 'C', 'G', 'C', 'G', 'T', 'G', 'T', 'C', 'C', 'G', 'C', 'A', 'A', 'G', 'A', 'T', 'T', 'A', 'C', 'C', 'T', 'A', 'A', 'T', 'C', 'G', 'T', 'C', 'G', 'T', 'A', 'G', 'T', 'C', 'G', 'C', 'A', 'T', 'G', 'A', 'T', 'G', 'C', 'A', 'C', 'T', 'A', 'G', 'G', 'A', 'A', 'T', 'G', 'T', 'G', 'A', 'T', 'T', 'C', 'A', 'G', 'C', 'C', 'A', 'C', 'C', 'T', 'A', 'G', 'G', 'A', 'T', 'C', 'T', 'G', 'C', 'A', 'G', 'T', 'G', 'A', 'C', 'T', 'G', 'T', 'G', 'C', 'T', 'G', 'A', 'C', 'A', 'G', 'C', 'T', 'G', 'C', 'A', 'T', 'C', 'C', 'G', 'G', 'C', 'C', 'T', 'A', 'T', 'C', 'G', 'G', 'T', 'G', 'T', 'A', 'A', 'C', 'C', 'A', 'T', 'G', 'A', 'A', 'A', 'A', 'G', 'G', 'T', 'A', 'G', 'A', 'T', 'C', 'T', 'A', 'C', 'T', 'T', 'T', 'G', 'A', 'C', 'A', 'G', 'T', 'G', 'G', 'T', 'G', 'C', 'T', 'T', 'T', 'A', 'T', 'C', 'A', 'A', 'T', 'A', 'C', 'C', 'G', 'C', 'T', 'C', 'A', 'C', 'A', 'A', 'T', 'A', 'C', 'C', 'T', 'T', 'C', 'T', 'C', 'T', 'C', 'C', 'C', 'T', 'C', 'G', 'A', 'C', 'C', 'T', 'T', 'T', 'G', 'G', 'G', 'G', 'G', 'T', 'T', 'T', 'G', 'G', 'T', 'C', 'G', 'G', 'C', 'G', 'A', 'G', 'A', 'T', 'C', 'G', 'T', 'G', 'C', 'A', 'A', 'C', 'G', 'T', 'G', 'G', 'C', 'G', 'A', 'A', 'G', 'G', 'T', 'G', 'C', 'A', 'T', 'T', 'C', 'A', 'T', 'G', 'A', 'A', 'A', 'A', 'A', 'G', 'A', 'A', 'A', 'T', 'C', 'A', 'T', 'G', 'G', 'G', 'A', 'A', 'C', 'T', 'T', 'G', 'A', 'A', 'T', 'A', 'A', 'T', 'C', 'T', 'G', 'C', 'C', 'T', 'T', 'G', 'C', 'G', 'G', 'A', 'C', 'G', 'C', 'G', 'G', 'A', 'A', 'T', 'A', 'A', 'T', 'A', 'G', 'T', 'C', 'T', 'A', 'A', 'G', 'C', 'A', 'A', 'A', 'A', 'C', 'C', 'G', 'A', 'C', 'T', 'C', 'C', 'G', 'G', 'G', 'C', 'G', 'A', 'G', 'T', 'T', 'C', 'A', 'G', 'T', 'G', 'T', 'C', 'C', 'T', 'C', 'G', 'C', 'G', 'G', 'A', 'G', 'G', 'A', 'G', 'A', 'A', 'C', 'C', 'C', 'T', 'A', 'A', 'T', 'A', 'C', 'C', 'C', 'T', 'T', 'C', 'T', 'G', 'G', 'G', 'T', 'T', 'G', 'G', 'G', 'G', 'G', 'C', 'T', 'A', 'C', 'A', 'C', 'A', 'C', 'C', 'T', 'C', 'A', 'C', 'T', 'T', 'C', 'C', 'T', 'G', 'A', 'A', 'G', 'T', 'T', 'A', 'T', 'G', 'T', 'T', 'T', 'A', 'A', 'A', 'G', 'A', 'C', 'C', 'C', 'A', 'A', 'G', 'A', 'A', 'C', 'G', 'A', 'A', 'T', 'G', 'C', 'G', 'G', 'T', 'C', 'G', 'T', 'A', 'G', 'G', 'A', 'G', 'T', 'T', 'A', 'A', 'T', 'C', 'G', 'G', 'T', 'A', 'G', 'C', 'T', 'T', 'G', 'G', 'A', 'A', 'C', 'T', 'A', 'A', 'T', 'G', 'G', 'A', 'A', 'T', 'G', 'C', 'C', 'T', 'A', 'T', 'G', 'A', 'A', 'A', 'T', 'A', 'A', 'A', 'G', 'G', 'G', 'C', 'G', 'T', 'G', 'C', 'A', 'T', 'G', 'T', 'G', 'C', 'G', 'A', 'G', 'C', 'A', 'G', 'G', 'G', 'A', 'C', 'A', 'C', 'C', 'G', 'C', 'T', 'A', 'T', 'C', 'A', 'A', 'C', 'A', 'C', 'C', 'A', 'G', 'A', 'G', 'C', 'C', 'T', 'C', 'T', 'C', 'A', 'G', 'A', 'T', 'T', 'A', 'C', 'A', 'A', 'G', 'T', 'G', 'A', 'C', 'T', 'G', 'A', 'A', 'G', 'A', 'T', 'C', 'A', 'A', 'C', 'A', 'T', 'C', 'A', 'C', 'C', 'T', 'G', 'G', 'A', 'A', 'C', 'C', 'G', 'G', 'C', 'C', 'G', 'T', 'G', 'C', 'C', 'A', 'G', 'C', 'T', 'T', 'A', 'G', 'T', 'T', 'C', 'T', 'A', 'C', 'A', 'A', 'A', 'T', 'T', 'G', 'A', 'G', 'C', 'G', 'T', 'T', 'A', 'G', 'C', 'A', 'G', 'G', 'A', 'A', 'T', 'C', 'A', 'C', 'A', 'T', 'G', 'A', 'G', 'G', 'C', 'C', 'T', 'G', 'A', 'C', 'A', 'C', 'C', 'C', 'A', 'C', 'C', 'T', 'A', 'G', 'G', 'C', 'C', 'T', 'A', 'C', 'C', 'A', 'T', 'G', 'C', 'C', 'T', 'C', 'C', 'T', 'G', 'C', 'A', 'C', 'G', 'T', 'C', 'A', 'T', 'C', 'A', 'C', 'T', 'T', 'T', 'T', 'G', 'A', 'G', 'A', 'C', 'G', 'T', 'G', 'C', 'G', 'G', 'T', 'A', 'G', 'A', 'C', 'T', 'T', 'G', 'G', 'T', 'C', 'C', 'C', 'T', 'A', 'A', 'A', 'A', 'G', 'G', 'C', 'A', 'T', 'A', 'G', 'T', 'C', 'A', 'T', 'T', 'A', 'G', 'G', 'C', 'A', 'A', 'C', 'G', 'A', 'A', 'G', 'A', 'T', 'G', 'A', 'T', 'T', 'G', 'T', 'G', 'A', 'G', 'T', 'G', 'T', 'G', 'A', 'T', 'G', 'A', 'A', 'C', 'G', 'T', 'T', 'A', 'C', 'T', 'T', 'T', 'T', 'T', 'A', 'A', 'C', 'C', 'C', 'G', 'G', 'A', 'A', 'T', 'T', 'C', 'T', 'C', 'G', 'C', 'T', 'T', 'G', 'A', 'T', 'G', 'A', 'A', 'A', 'A', 'G', 'G', 'G', 'A', 'C', 'A', 'T', 'C', 'T', 'G', 'G', 'T', 'G', 'A', 'G', 'G', 'G', 'T', 'A', 'T', 'C', 'C', 'G', 'T', 'A', 'T', 'G', 'T', 'T', 'T', 'T', 'C', 'C', 'T', 'G', 'G', 'T', 'G', 'G', 'G', 'A', 'A', 'G', 'A', 'T', 'C', 'G', 'C', 'G', 'T', 'C', 'T', 'G', 'A', 'C', 'G', 'T', 'A', 'C', 'T', 'A', 'A', 'A', 'G', 'A', 'C', 'A', 'C', 'A', 'C', 'A', 'T', 'T', 'G', 'T', 'T', 'T', 'C', 'T', 'C', 'T', 'G', 'A', 'G', 'T', 'G', 'T', 'T', 'G', 'C', 'G', 'T', 'T', 'G', 'T', 'C', 'C', 'A', 'A', 'C', 'C', 'T', 'T', 'G', 'A', 'T', 'T', 'T', 'G', 'G', 'G', 'T', 'A', 'T', 'G', 'C', 'T', 'A', 'A', 'A', 'T', 'T', 'G', 'C', 'G', 'C', 'T', 'G', 'T', 'T', 'C', 'G', 'C', 'A', 'C', 'G', 'A', 'A', 'A', 'C', 'C', 'C', 'A', 'A', 'C', 'A', 'G', 'T', 'C', 'A', 'T', 'C', 'T', 'A', 'G', 'G', 'G', 'C', 'C', 'G', 'G', 'T', 'C', 'A', 'G', 'G', 'T', 'G', 'C', 'A', 'A', 'T', 'C', 'G', 'G', 'G', 'A', 'T', 'A', 'G', 'C', 'G', 'T', 'T', 'A', 'G', 'A', 'T', 'A', 'G', 'C', 'C', 'T', 'T', 'G', 'T', 'T', 'T', 'T', 'A', 'C', 'G', 'A', 'A', 'A', 'A', 'G', 'A', 'T', 'A', 'T', 'G', 'C', 'A', 'G', 'C', 'T', 'C', 'T', 'G', 'C', 'C', 'G', 'C', 'A', 'A', 'G', 'A', 'C', 'A', 'G', 'A', 'A', 'G', 'C', 'T', 'T', 'C', 'G', 'C', 'G', 'G', 'C', 'T', 'G', 'G', 'C', 'A', 'C', 'C', 'C', 'A', 'A', 'C', 'T', 'A', 'T', 'A', 'A', 'T', 'C', 'G', 'T', 'G', 'T', 'C', 'C', 'C', 'A', 'T', 'T', 'A', 'T', 'T', 'A', 'A', 'C', 'A', 'C', 'A', 'T', 'G', 'G', 'T', 'C', 'T', 'T', 'C', 'G', 'G', 'T', 'C', 'A', 'C', 'G', 'T', 'T', 'C', 'C', 'C', 'A', 'A', 'T', 'T', 'G', 'T', 'T', 'G', 'G', 'C', 'G', 'T', 'G', 'G', 'G', 'A', 'T', 'C', 'G', 'C', 'T', 'A', 'C', 'A', 'A', 'G', 'G', 'G', 'A', 'G', 'T', 'T', 'A', 'T', 'A', 'G', 'G', 'T', 'C', 'G', 'A', 'T', 'A', 'T', 'T', 'T', 'G', 'T', 'C', 'T', 'G', 'C', 'T', 'T', 'C', 'A', 'G', 'C', 'C', 'C', 'T', 'T', 'A', 'C', 'C', 'T', 'T', 'C', 'T', 'A', 'T', 'C', 'A', 'T', 'A', 'T', 'G', 'T', 'G', 'T', 'A', 'A', 'A', 'G', 'T', 'C', 'C', 'A', 'C', 'G', 'A', 'A', 'T', 'C', 'G', 'C', 'C', 'A', 'C', 'C', 'G', 'G', 'G', 'A', 'C', 'C', 'T', 'C', 'C', 'C', 'C', 'A', 'C', 'G', 'C', 'T', 'T', 'G', 'T', 'A', 'T', 'A', 'C', 'A', 'A', 'C', 'C', 'G', 'C', 'G', 'T', 'G', 'G', 'C', 'C', 'A', 'T', 'G', 'A', 'T', 'A', 'T', 'G', 'G', 'A', 'T', 'G', 'T', 'C', 'A', 'G', 'A', 'C', 'G', 'G', 'C', 'T', 'A', 'G', 'T', 'G', 'A', 'A', 'G', 'C', 'C', 'A', 'A', 'C', 'T', 'C', 'T', 'A', 'A', 'G', 'T', 'T', 'G', 'G', 'T', 'T', 'G', 'T', 'A', 'A', 'A', 'T', 'T', 'T', 'C', 'C', 'C', 'T', 'T', 'A', 'G', 'C', 'A', 'G', 'C', 'C', 'G', 'C', 'C', 'T', 'C', 'C', 'C', 'G', 'G', 'G', 'G', 'T', 'A', 'A', 'A', 'A', 'G', 'C', 'A', 'G', 'T', 'G', 'G', 'A', 'T', 'G', 'G', 'G', 'T', 'T', 'T', 'T', 'G', 'T', 'T', 'C', 'C', 'A', 'G', 'T', 'G', 'A', 'C', 'G', 'G', 'C', 'C', 'A', 'G', 'A', 'A', 'C', 'G', 'T', 'C', 'T', 'T', 'C', 'A', 'G', 'G', 'G', 'A', 'T', 'T', 'T', 'T', 'A', 'A', 'A', 'C', 'T', 'G', 'A', 'A', 'C', 'C', 'C', 'A', 'A', 'G', 'G', 'G', 'T', 'G', 'C', 'G', 'T', 'C', 'C', 'G', 'C', 'T', 'G', 'T', 'T', 'G', 'T', 'T', 'G', 'T', 'C', 'G', 'A', 'T', 'G', 'G', 'G', 'C', 'A', 'C', 'C', 'T', 'A', 'T', 'C', 'T', 'C', 'T', 'A', 'G', 'A', 'C', 'A', 'G', 'A', 'T', 'G', 'A', 'T', 'G', 'A', 'C', 'G', 'G', 'T', 'T', 'A', 'A', 'G', 'G', 'A', 'G', 'C', 'G', 'A', 'A', 'G', 'G', 'A', 'G', 'T', 'A', 'C', 'C', 'T', 'A', 'T', 'G', 'C', 'T', 'A', 'A', 'T', 'A', 'G', 'G', 'T', 'A', 'A', 'G', 'T', 'T', 'G', 'T', 'A', 'G', 'C', 'G', 'A', 'A', 'C', 'A', 'C', 'T', 'G', 'G', 'A', 'G', 'T', 'A', 'G', 'T', 'A', 'C', 'G', 'G', 'C', 'G', 'T', 'A', 'A', 'G', 'C', 'C', 'T', 'G', 'G', 'T', 'C', 'T', 'A', 'T', 'G', 'A', 'T', 'T', 'T', 'G', 'G', 'T', 'C', 'G', 'C', 'C', 'A', 'T', 'T', 'T', 'C', 'T', 'C', 'A', 'C', 'G', 'A', 'C', 'C', 'A', 'T', 'A', 'G', 'G', 'A', 'A', 'A', 'T', 'A', 'C', 'G', 'T', 'C', 'A', 'G', 'A', 'C', 'G', 'C', 'T', 'G', 'A', 'T', 'G', 'A', 'A', 'T', 'G', 'G', 'G', 'C', 'T', 'T', 'T', 'G', 'G', 'G', 'A', 'C', 'A', 'G', 'G', 'A', 'A', 'A', 'G', 'T', 'T', 'T', 'G', 'G', 'G', 'A', 'A', 'T', 'G', 'A', 'T', 'T', 'A', 'C', 'A', 'A', 'A', 'C', 'A', 'A', 'T', 'T', 'C', 'C', 'T', 'G', 'A', 'A', 'T', 'A', 'G', 'T', 'C', 'A', 'G', 'T', 'T', 'A', 'C', 'G', 'C', 'C', 'C', 'T', 'G', 'G', 'A', 'C', 'G', 'G', 'T', 'C', 'G', 'G', 'G', 'C', 'C', 'T', 'T', 'G', 'C', 'G', 'A', 'G', 'C', 'T', 'T', 'C', 'C', 'A', 'T', 'C', 'C', 'A', 'G', 'T', 'A', 'G', 'T', 'G', 'C', 'A', 'G', 'T', 'G', 'C', 'T', 'A', 'T', 'A', 'A', 'G', 'A', 'C', 'A', 'A', 'T', 'T', 'T', 'G', 'A', 'G', 'T', 'G', 'C', 'T', 'C', 'A', 'T', 'T', 'A', 'G', 'T', 'T', 'T', 'G', 'A', 'C', 'A', 'C', 'C', 'T', 'T', 'C', 'C', 'C', 'T', 'G', 'T', 'A', 'G', 'A', 'G', 'A', 'A', 'C', 'C', 'C', 'T', 'C', 'T', 'G', 'A', 'A', 'T', 'C', 'C', 'C', 'C', 'A', 'G', 'T', 'T', 'C', 'T', 'G', 'A', 'C', 'T', 'C', 'C', 'A', 'T', 'A', 'G', 'C', 'T', 'T', 'T', 'C', 'T', 'C', 'C', 'G', 'G', 'T', 'T', 'A', 'T', 'C', 'T', 'A', 'C', 'C', 'G', 'G', 'G', 'A', 'A', 'G', 'C', 'G', 'C', 'G', 'A', 'C', 'A', 'T', 'G', 'C', 'G', 'T', 'G', 'G', 'C', 'G', 'C', 'C', 'C', 'A', 'T', 'G', 'C', 'C', 'C', 'T', 'T', 'T', 'A', 'T', 'C', 'G', 'C', 'G', 'C', 'C', 'T', 'A', 'T', 'T', 'G', 'G', 'T', 'T', 'G', 'A', 'A', 'G', 'T', 'G', 'G', 'A', 'T', 'G', 'G', 'T', 'G', 'C', 'T', 'C', 'A', 'A', 'C', 'G', 'C', 'G', 'G', 'T', 'C', 'C', 'G', 'G', 'G', 'T', 'A', 'T', 'C', 'C', 'A', 'A', 'T', 'T', 'T', 'G', 'A', 'A', 'G', 'T', 'C', 'T', 'A', 'T', 'G', 'G', 'G', 'C', 'G', 'C', 'A', 'G', 'A', 'T', 'A', 'G', 'A', 'G', 'C', 'A', 'T', 'G', 'T', 'A', 'G', 'G', 'G', 'T', 'G', 'T', 'G', 'A', 'A', 'A', 'T', 'A', 'G', 'G', 'A', 'C', 'T', 'A', 'C', 'T', 'T', 'C', 'C', 'A', 'T', 'T', 'G', 'C', 'A', 'C', 'G', 'T', 'A', 'G', 'G', 'C', 'A', 'A', 'C', 'A', 'A', 'A', 'G', 'G', 'T', 'A', 'A', 'G', 'G', 'A', 'T', 'A', 'T', 'A', 'G', 'C', 'A', 'G', 'C', 'C', 'G', 'C', 'G', 'C', 'G', 'G', 'T', 'A', 'T', 'T', 'C', 'C', 'T', 'T', 'A', 'C', 'A', 'T', 'C', 'T', 'A', 'G', 'T', 'C', 'T', 'T', 'G', 'C', 'T', 'T', 'A', 'T', 'G', 'A', 'A', 'G', 'T', 'G', 'T', 'G', 'A', 'G', 'C', 'T', 'C', 'C', 'T', 'A', 'T', 'G', 'A', 'G', 'A', 'A', 'C', 'G', 'T', 'A', 'C', 'G', 'A', 'G', 'A', 'T', 'C', 'A', 'A', 'G', 'T', 'A', 'T', 'T', 'C', 'G', 'G', 'C', 'T', 'G', 'C', 'T', 'C', 'C', 'A', 'T', 'C', 'C', 'C', 'G', 'A', 'G', 'C', 'A', 'C', 'T', 'A', 'C', 'G', 'G', 'A', 'T', 'G', 'C', 'C', 'T', 'C', 'T', 'T', 'T', 'G', 'A', 'G', 'A', 'G', 'C', 'A', 'G', 'C', 'A', 'C', 'T', 'A', 'A', 'A', 'T', 'T', 'A', 'G', 'A', 'T', 'A', 'G', 'T', 'T', 'T', 'G', 'C', 'C', 'G', 'A', 'A', 'A', 'C', 'T', 'T', 'G', 'C', 'G', 'C', 'G', 'A', 'T', 'C', 'T', 'C', 'T', 'A', 'T', 'A', 'G', 'A', 'T', 'G', 'T', 'G', 'C', 'C', 'T', 'T', 'A', 'A', 'A', 'C', 'A', 'A', 'A', 'A', 'C', 'C', 'G', 'G', 'G', 'G', 'T', 'C', 'G', 'C', 'A', 'C', 'C', 'A', 'A', 'C', 'T', 'A', 'C', 'C', 'A', 'G', 'G', 'A', 'T', 'A', 'C', 'G', 'T', 'T', 'A', 'A', 'C', 'T', 'G', 'C', 'A', 'T', 'A', 'A', 'C', 'C', 'G', 'G', 'A', 'A', 'T', 'A', 'T', 'A', 'A', 'C', 'T', 'A', 'C', 'T', 'G', 'C', 'G', 'G', 'T', 'C', 'A', 'A', 'G', 'A', 'C', 'T', 'T', 'A', 'A', 'G', 'G', 'T', 'A', 'C', 'T', 'C', 'A', 'T', 'G', 'G', 'G', 'A', 'G', 'A', 'C', 'T', 'G', 'C', 'T', 'C', 'A', 'G', 'A', 'G', 'G', 'A', 'A', 'T', 'G', 'C', 'C', 'C', 'G', 'C', 'A', 'T', 'C', 'A', 'G', 'C', 'C', 'G', 'T', 'A', 'C', 'A', 'C', 'C', 'G', 'A', 'C', 'A', 'C', 'A', 'T', 'C', 'T', 'T', 'G', 'A', 'T', 'C', 'C', 'C', 'C', 'G', 'G', 'A', 'G', 'A', 'T', 'C', 'G', 'G', 'T', 'A', 'A', 'C', 'G', 'T', 'T', 'C', 'G', 'G', 'T', 'C', 'A', 'A', 'A', 'G', 'A', 'A', 'T', 'A', 'G', 'T', 'C', 'A', 'C', 'G', 'C', 'A', 'C', 'T', 'A', 'T', 'C', 'G', 'G', 'T', 'A', 'A', 'G', 'C', 'T', 'T', 'G', 'A', 'A', 'A', 'G', 'A', 'G', 'G', 'G', 'A', 'C', 'T', 'A', 'G', 'C', 'G', 'G', 'A', 'T', 'C', 'C', 'G', 'C', 'C', 'A', 'T', 'G', 'G', 'A', 'T', 'G', 'A', 'T', 'A', 'T', 'T', 'A', 'G', 'G', 'C', 'C', 'C', 'C', 'A', 'G', 'G', 'T', 'C', 'G', 'G', 'T', 'C', 'T', 'T', 'A', 'G', 'G', 'G', 'T', 'C', 'C', 'C', 'C', 'G', 'A', 'C', 'T', 'A', 'A', 'T', 'C', 'G', 'G', 'G', 'C', 'C', 'C', 'G', 'T', 'C', 'C', 'G', 'A', 'C', 'T', 'T', 'T', 'G', 'G', 'G', 'A', 'G', 'T', 'G', 'T', 'A', 'C', 'A', 'T', 'C', 'A', 'G', 'C', 'A', 'A', 'A', 'A', 'G', 'G', 'A', 'A', 'A', 'T', 'G', 'T', 'C', 'G', 'T', 'G', 'C', 'T', 'G', 'G', 'C', 'T', 'C', 'T', 'C', 'T', 'A', 'G', 'T', 'A', 'G', 'G', 'G', 'C', 'T', 'T', 'T', 'G', 'A', 'C', 'C', 'A', 'G', 'C', 'G', 'T', 'C', 'C', 'G', 'T', 'A', 'G', 'C', 'C', 'A', 'A', 'A', 'T', 'A', 'A', 'G', 'C', 'C', 'A', 'T', 'A', 'T', 'T', 'C', 'G', 'G', 'A', 'C', 'C', 'G', 'C', 'T', 'A', 'A', 'A', 'G', 'A', 'G', 'A', 'T', 'G', 'A', 'G', 'G', 'T', 'A', 'G', 'T', 'C', 'A', 'T', 'C', 'A', 'A', 'G', 'T', 'A', 'A', 'T', 'A', 'A', 'G', 'G', 'A', 'T', 'G', 'G', 'A', 'A', 'T', 'G', 'T', 'G', 'A', 'G', 'C', 'T', 'C', 'G', 'A', 'G', 'C', 'C', 'C', 'T', 'T', 'T', 'G', 'G', 'C', 'C', 'A', 'T', 'A', 'A', 'C', 'A', 'G', 'G', 'T', 'C', 'C', 'G', 'G', 'A', 'T', 'A', 'G', 'G', 'G', 'G', 'C', 'A', 'C', 'A', 'G', 'T', 'T', 'A', 'A', 'A', 'T', 'T', 'G', 'T', 'C', 'T', 'A', 'T', 'G', 'G', 'G', 'T', 'C', 'A', 'G', 'G', 'C', 'C', 'A', 'C', 'C', 'A', 'C', 'A', 'A', 'A', 'G', 'C', 'G', 'A', 'A', 'G', 'A', 'G', 'T', 'T', 'G', 'G', 'T', 'C', 'G', 'G', 'T', 'C', 'G', 'C', 'G', 'A', 'C', 'A', 'A', 'A', 'T', 'A', 'C', 'C', 'C', 'G', 'G', 'T', 'C', 'T', 'G', 'G', 'C', 'G', 'T', 'G', 'A', 'A', 'T', 'G', 'A', 'A', 'A', 'A', 'C', 'G', 'T', 'T', 'C', 'A', 'T', 'G', 'C', 'T', 'T', 'T', 'C', 'C', 'G', 'G', 'C', 'A', 'C', 'T', 'G', 'C', 'T', 'T', 'G', 'G', 'T', 'T', 'T', 'T', 'A', 'C', 'C', 'T', 'G', 'A', 'G', 'A', 'T', 'T', 'A', 'T', 'T', 'G', 'A', 'T', 'C', 'T', 'C', 'C', 'A', 'C', 'T', 'A', 'G', 'T', 'A', 'G', 'G', 'C', 'T', 'C', 'C', 'G', 'C', 'T', 'G', 'A', 'A', 'T', 'G', 'A', 'A', 'A', 'A', 'C', 'T', 'A', 'T', 'A', 'G', 'C', 'C', 'A', 'T', 'G', 'C', 'C', 'G', 'G', 'G', 'C', 'C', 'T', 'G', 'A', 'G', 'A', 'T', 'T', 'C', 'A', 'A', 'C', 'T', 'G', 'A', 'A', 'G', 'T', 'G', 'C', 'C', 'A', 'G', 'T', 'G', 'G', 'G', 'A', 'G', 'A', 'T', 'T', 'A', 'C', 'G', 'C', 'G', 'A', 'A', 'C', 'G', 'C', 'C', 'C', 'G', 'G', 'C', 'G', 'A', 'G', 'G', 'G', 'A', 'T', 'G', 'T', 'A', 'T', 'A', 'G', 'G', 'C', 'G', 'G', 'T', 'T', 'T', 'G', 'A', 'G', 'A', 'G', 'T', 'T', 'C', 'T', 'T', 'G', 'A', 'T', 'C', 'C', 'C', 'G', 'T', 'T', 'G', 'T', 'A', 'A', 'A', 'C', 'T', 'C', 'G', 'A', 'A', 'G', 'A', 'C', 'C', 'C', 'C', 'T', 'G', 'A', 'T', 'T', 'C', 'A', 'A', 'G', 'C', 'G', 'A', 'C', 'T', 'T', 'G', 'C', 'T', 'G', 'C', 'G', 'A', 'C', 'A', 'G', 'T', 'T', 'C', 'G', 'G', 'G', 'G', 'G', 'A', 'G', 'C', 'A', 'T', 'A', 'A', 'G', 'A', 'G', 'A', 'T', 'T', 'G', 'A', 'C', 'C', 'A', 'T', 'A', 'A', 'A', 'G', 'G', 'G', 'A', 'T', 'T', 'A', 'C', 'A', 'A', 'T', 'A', 'G', 'C', 'C', 'G', 'T', 'G', 'C', 'A', 'G', 'T', 'C', 'G', 'C', 'C', 'T', 'T', 'G', 'A', 'T', 'T', 'T', 'A', 'C', 'A', 'T', 'G', 'A', 'G', 'G', 'C', 'T', 'C', 'A', 'C', 'T', 'T', 'G', 'C', 'T', 'G', 'A', 'A', 'G', 'T', 'G', 'A', 'G', 'T', 'A', 'A', 'T', 'G', 'T', 'T', 'A', 'A', 'T', 'C', 'C', 'T', 'A', 'A', 'A', 'A', 'A', 'C', 'G', 'T', 'A', 'T', 'G', 'A', 'C', 'T', 'G', 'T', 'G', 'A', 'C', 'A', 'T', 'C', 'C', 'A', 'G', 'C', 'C', 'G', 'A', 'A', 'G', 'G', 'G', 'A', 'T', 'T', 'C', 'G', 'G', 'A', 'T', 'G', 'A', 'G', 'G', 'G', 'G', 'G', 'C', 'C', 'G', 'C', 'T', 'G', 'T', 'G', 'C', 'C', 'T', 'A', 'G', 'A', 'C', 'T', 'G', 'G', 'A', 'G', 'G', 'A', 'G', 'G', 'C', 'C', 'G', 'T', 'G', 'G', 'G', 'G', 'G', 'C', 'A', 'A', 'G', 'A', 'C', 'G', 'A', 'C', 'C', 'C', 'A', 'C', 'G', 'G', 'A', 'A', 'A', 'G', 'C', 'G', 'C', 'G', 'T', 'G', 'C', 'T', 'G', 'T', 'G', 'T', 'G', 'T', 'G', 'T', 'T', 'C', 'G', 'T', 'T', 'T', 'C', 'G', 'T', 'T', 'T', 'A', 'T', 'C', 'G', 'T', 'G', 'T', 'A', 'G', 'C', 'T', 'G', 'A', 'A', 'T', 'T', 'T', 'T', 'G', 'T', 'A', 'G', 'T', 'A', 'C', 'C', 'G', 'G', 'A', 'C', 'C', 'G', 'A', 'T', 'C', 'A', 'C', 'C', 'G', 'G', 'G', 'C', 'A', 'C', 'C', 'G', 'C', 'C', 'T', 'T', 'T', 'A', 'T', 'A', 'G', 'C', 'A', 'A', 'G', 'T', 'A', 'C', 'A', 'T', 'A', 'C', 'G', 'C', 'T', 'G', 'T', 'C', 'G', 'C', 'G', 'T', 'C', 'T', 'G', 'A', 'C', 'T', 'A', 'G', 'A', 'C', 'G', 'G', 'C', 'G', 'G', 'A', 'A', 'C', 'C', 'C', 'T', 'A', 'A', 'G', 'T', 'T', 'T', 'C', 'C', 'A', 'A', 'A', 'G', 'G', 'C', 'T', 'G', 'T', 'A', 'T', 'G', 'G', 'A', 'A', 'G', 'C', 'C', 'G', 'G', 'T', 'C', 'G', 'G', 'C', 'C', 'A', 'T', 'A', 'A', 'C', 'T', 'A', 'G', 'C', 'C', 'A', 'C', 'G', 'C', 'C', 'G', 'G', 'A', 'G', 'T', 'G', 'C', 'A', 'T', 'C', 'A', 'C', 'C', 'C', 'A', 'C', 'C', 'T', 'G', 'A', 'A', 'A', 'T', 'C', 'T', 'T', 'T', 'C', 'A', 'T', 'G', 'A', 'C', 'A', 'G', 'C', 'T', 'C', 'T', 'C', 'A', 'A', 'C', 'C', 'G', 'A', 'T', 'C', 'C', 'T', 'G', 'A', 'G', 'C', 'A', 'C', 'T', 'G', 'G', 'A', 'A', 'G', 'A', 'T', 'T', 'A', 'A', 'A', 'G', 'C', 'G', 'G', 'T', 'C', 'T', 'C', 'C', 'G', 'G', 'A', 'C', 'A', 'C', 'C', 'C', 'C', 'G', 'A', 'A', 'G', 'C', 'T', 'C', 'T', 'G', 'T', 'A', 'C', 'C', 'T', 'T', 'A', 'T', 'A', 'C', 'C', 'A', 'G', 'C', 'T', 'T', 'C', 'G', 'C', 'T', 'C', 'T', 'C', 'T', 'C', 'C', 'G', 'A', 'T', 'A', 'T', 'A', 'G', 'T', 'T', 'A', 'G', 'C', 'G', 'T', 'A', 'T', 'C', 'A', 'A', 'A', 'T', 'C', 'T', 'C', 'G', 'T', 'T', 'A', 'C', 'C', 'G', 'T', 'T', 'T', 'G', 'T', 'A', 'T', 'T', 'A', 'A', 'G', 'A', 'T', 'T', 'C', 'C', 'A', 'G', 'G', 'G', 'C', 'T', 'G', 'G', 'T', 'G', 'T', 'T', 'G', 'C', 'T', 'A', 'A', 'G', 'C', 'C', 'T', 'C', 'C', 'T', 'A', 'G', 'A', 'G', 'C', 'G', 'A', 'C', 'C', 'A', 'T', 'G', 'C', 'G', 'A', 'T', 'C', 'G', 'T', 'A', 'C', 'G', 'T', 'G', 'T', 'T', 'C', 'T', 'T', 'T', 'C', 'G', 'C', 'T', 'G', 'T', 'A', 'C', 'C', 'G', 'C', 'T', 'T', 'T', 'G', 'A', 'C', 'G', 'A', 'T', 'A', 'A', 'C', 'T', 'A', 'T', 'G', 'G', 'C', 'A', 'A', 'T', 'T', 'C', 'G', 'A', 'A', 'T', 'A', 'A', 'C', 'A', 'G', 'G', 'T', 'C', 'G', 'G', 'A', 'C', 'T', 'C', 'G', 'A', 'A', 'G', 'T', 'G', 'G', 'A', 'T', 'C', 'T', 'A', 'A', 'T', 'G', 'T', 'G', 'T', 'C', 'T', 'G', 'A', 'T', 'C', 'T', 'A', 'A', 'C', 'T', 'C', 'C', 'G', 'G', 'G', 'T', 'G', 'C', 'C', 'A', 'T', 'A', 'C', 'C', 'C', 'A', 'C', 'T', 'C', 'G', 'C', 'C', 'T', 'A', 'C', 'T', 'G', 'T', 'A', 'T', 'T', 'T', 'T', 'C', 'A', 'T', 'G', 'T', 'G', 'A', 'C', 'A', 'T', 'C', 'T', 'G', 'T', 'C', 'C', 'C', 'G', 'A', 'G', 'G', 'C', 'C', 'G', 'G', 'C', 'T', 'G', 'C', 'G', 'C', 'C', 'C', 'T', 'A', 'G', 'T', 'C', 'T', 'C', 'G', 'C', 'T', 'C', 'G', 'A', 'A', 'C', 'T', 'T', 'T', 'C', 'G', 'T', 'G', 'G', 'A', 'T', 'T', 'C', 'A', 'T', 'C', 'A', 'T', 'C', 'G', 'T', 'A', 'T', 'T', 'A', 'A', 'T', 'T', 'A', 'A', 'G', 'C', 'G', 'T', 'T', 'T', 'T', 'T', 'A', 'A', 'T', 'T', 'G', 'T', 'C', 'G', 'T', 'A', 'G', 'T', 'G', 'T', 'G', 'G', 'A', 'G', 'T', 'T', 'C', 'G', 'G', 'A', 'T', 'T', 'C', 'A', 'A', 'C', 'T', 'T', 'G', 'G', 'G', 'G', 'T', 'A', 'T', 'T', 'C', 'A', 'T', 'T', 'C', 'C', 'T', 'A', 'G', 'C', 'T', 'C', 'A', 'G', 'G', 'A', 'A', 'C', 'A', 'G', 'T', 'C', 'A', 'T', 'A', 'G', 'A', 'G', 'T', 'C', 'A', 'C', 'A', 'T', 'T', 'G', 'T', 'A', 'C', 'G', 'T', 'C', 'A', 'C', 'G', 'G', 'T', 'G', 'T', 'C', 'A', 'A', 'A', 'C', 'G', 'G', 'C', 'G', 'G', 'C', 'G', 'T', 'T', 'C', 'C', 'A', 'A', 'T', 'G', 'C', 'A', 'C', 'G', 'T', 'T', 'G', 'T', 'A', 'G', 'C', 'A', 'C', 'A', 'C', 'G', 'C', 'C', 'T', 'C', 'C', 'C', 'G', 'T', 'G', 'A', 'T', 'G', 'T', 'A', 'C', 'A', 'C', 'C', 'T', 'A', 'C', 'A', 'C', 'A', 'A', 'A', 'C', 'G', 'A', 'A', 'A', 'A', 'T', 'C', 'A', 'A', 'A', 'G', 'A', 'G', 'T', 'C', 'T', 'T', 'A', 'G', 'A', 'A', 'A', 'A', 'T', 'C', 'G', 'A', 'G', 'T', 'T', 'T', 'T', 'T', 'A', 'T', 'A', 'A', 'G', 'G', 'G', 'T', 'T', 'A', 'C', 'G', 'C', 'G', 'G', 'C', 'G', 'C', 'T', 'C', 'C', 'T', 'C', 'A', 'G', 'C', 'C', 'T', 'T', 'T', 'G', 'T', 'A', 'T', 'G', 'T', 'G', 'T', 'T', 'T', 'G', 'A', 'G', 'G', 'G', 'G', 'T', 'C', 'A', 'G', 'G', 'C', 'T', 'T', 'C', 'A', 'T', 'C', 'T', 'C', 'G', 'A', 'G', 'G', 'G', 'T', 'T', 'C', 'A', 'C', 'T', 'A', 'C', 'G', 'T', 'C', 'A', 'C', 'G', 'A', 'G', 'C', 'G', 'G', 'C', 'T', 'G', 'A', 'C', 'T', 'A', 'A', 'T', 'T', 'T', 'T', 'T', 'G', 'A', 'A', 'C', 'T', 'C', 'A', 'A', 'G', 'G', 'A', 'C', 'A', 'C', 'G', 'A', 'C', 'C', 'A', 'T', 'G', 'T', 'T', 'G', 'A', 'C', 'A', 'G', 'T', 'T', 'C', 'C', 'A', 'G', 'A', 'G', 'T', 'C', 'G', 'C', 'A', 'G', 'T', 'T', 'G', 'T', 'G', 'C', 'G', 'T', 'T', 'G', 'A', 'T', 'A', 'C', 'G', 'G', 'G', 'C', 'A', 'T', 'C', 'A', 'A', 'A', 'A', 'G', 'A', 'T', 'A', 'T', 'T', 'C', 'A', 'A', 'A', 'C', 'C', 'T', 'T', 'G', 'A', 'C', 'C', 'C', 'T', 'G', 'A', 'G', 'A', 'A', 'C', 'A', 'C', 'A', 'C', 'G', 'A', 'T', 'G', 'G', 'C', 'G', 'T', 'G', 'A', 'T', 'A', 'T', 'T', 'T', 'C', 'C', 'A', 'T', 'A', 'G', 'C', 'C', 'T', 'A', 'A', 'G', 'G', 'C', 'G', 'A', 'G', 'G', 'C', 'C', 'T', 'G', 'G', 'G', 'A', 'C', 'C', 'A', 'T', 'A', 'C', 'G', 'T', 'T', 'A', 'A', 'A', 'C', 'T', 'A', 'G', 'G', 'C', 'T', 'C', 'A', 'G', 'T', 'C', 'C', 'T', 'G', 'T', 'G', 'A', 'A', 'A', 'T', 'A', 'C', 'G', 'G', 'G', 'T', 'T', 'C', 'G', 'G', 'C', 'G', 'G', 'C', 'C', 'T', 'A', 'T', 'A', 'T', 'G', 'A', 'C', 'G', 'C', 'C', 'A', 'C', 'G', 'A', 'A', 'G', 'T', 'G', 'G', 'C', 'C', 'T', 'T', 'G', 'G', 'C', 'G', 'T', 'C', 'A', 'C', 'A', 'G', 'G', 'A', 'A', 'A', 'T', 'T', 'C', 'T', 'C', 'T', 'C', 'C', 'C', 'G', 'T', 'C', 'T', 'G', 'T', 'A', 'A', 'G', 'C', 'T', 'T', 'A', 'T', 'T', 'A', 'T', 'G', 'G', 'T', 'T', 'G', 'A', 'G', 'A', 'A', 'C', 'C', 'C', 'C', 'A', 'T', 'T', 'C', 'T', 'G', 'C', 'C', 'C', 'G', 'A', 'A', 'T', 'T', 'T', 'C', 'C', 'G', 'C', 'G', 'G', 'T', 'A', 'G', 'C', 'G', 'G', 'A', 'C', 'A', 'A', 'G', 'C', 'T', 'C', 'A', 'T', 'A', 'C', 'T', 'C', 'T', 'G', 'G', 'C', 'A', 'G', 'A', 'G', 'C', 'T', 'G', 'T', 'T', 'A', 'G', 'A', 'C', 'C', 'G', 'C', 'A', 'C', 'C', 'G', 'C', 'T', 'G', 'C', 'C', 'C', 'G', 'A', 'T', 'T', 'C', 'T', 'A', 'A', 'A', 'A', 'G', 'C', 'T', 'C', 'T', 'A', 'T', 'C', 'A', 'C', 'C', 'C', 'A', 'C', 'T', 'C', 'T', 'T', 'C', 'C', 'A', 'G', 'G', 'T', 'G', 'T', 'G', 'A', 'C', 'T', 'C', 'T', 'T', 'A', 'G', 'A', 'C', 'C', 'C', 'C', 'A', 'T', 'T', 'A', 'G', 'A', 'G', 'G', 'G', 'C', 'G', 'T', 'G', 'A', 'G', 'C', 'C', 'T', 'C', 'G', 'T', 'T', 'T', 'A', 'C', 'T', 'T', 'G', 'A', 'C', 'T', 'C', 'G', 'A', 'T', 'A', 'T', 'A', 'T', 'A', 'C', 'G', 'C', 'T', 'A', 'A', 'G', 'T', 'T', 'C', 'T', 'C', 'T', 'G', 'C', 'A', 'C', 'G', 'A', 'C', 'C', 'A', 'T', 'A', 'T', 'A', 'A', 'C', 'G', 'T', 'C', 'T', 'C', 'T', 'C', 'G', 'A', 'G', 'A', 'G', 'T', 'G', 'G', 'A', 'G', 'C', 'C', 'A', 'A', 'A', 'G', 'G', 'T', 'A', 'C', 'A', 'C', 'T', 'G', 'C', 'G', 'T', 'T', 'C', 'G', 'C', 'C', 'T', 'G', 'C', 'G', 'T', 'G', 'C', 'G', 'G', 'G', 'T', 'T', 'T', 'G', 'G', 'A', 'T', 'C', 'T', 'C', 'C', 'C', 'T', 'T', 'C', 'G', 'T', 'G', 'G', 'G', 'T', 'T', 'A', 'A', 'A', 'G', 'C', 'T', 'T', 'G', 'A', 'C', 'G', 'C', 'A', 'C', 'A', 'A', 'T', 'C', 'T', 'G', 'T', 'C', 'C', 'A', 'A', 'G', 'C', 'C', 'C', 'G', 'G', 'T', 'T', 'G', 'A', 'C', 'T', 'T', 'C', 'A', 'A', 'A', 'A', 'G', 'T', 'G', 'C', 'T', 'C', 'G', 'C', 'T', 'C', 'A', 'A', 'T', 'C', 'A', 'T', 'A', 'A', 'T', 'C', 'T', 'C', 'T', 'C', 'T', 'G', 'C', 'C', 'A', 'G', 'A', 'A', 'C', 'C', 'T', 'G', 'A', 'G', 'A', 'C', 'C', 'T', 'A', 'T', 'A', 'T', 'C', 'T', 'A', 'G', 'G', 'G', 'G', 'T', 'G', 'T', 'C', 'C', 'C', 'G', 'C', 'A', 'C', 'G', 'G', 'C', 'G', 'C', 'C', 'T', 'G', 'C', 'C', 'G', 'T', 'A', 'C', 'C', 'G', 'T', 'G', 'G', 'G', 'C', 'C', 'C', 'A', 'C', 'G', 'T', 'A', 'A', 'G', 'A', 'G', 'C', 'C', 'G', 'G', 'A', 'T', 'G', 'T', 'G', 'A', 'C', 'T', 'T', 'C', 'G', 'C', 'A', 'G', 'G', 'A', 'G', 'C', 'C', 'C', 'C', 'A', 'G', 'T', 'A', 'T', 'C', 'G', 'A', 'A', 'G', 'C', 'G', 'G', 'T', 'T', 'T', 'C', 'G', 'G', 'C', 'C', 'A', 'A', 'A', 'A', 'G', 'A', 'T', 'G', 'A', 'G', 'A', 'C', 'T', 'G', 'C', 'T', 'G', 'G', 'C', 'T', 'G', 'T', 'G', 'T', 'G', 'A', 'G', 'G', 'C', 'T', 'C', 'C', 'A', 'A', 'G', 'C', 'C', 'G', 'T', 'G', 'G', 'C', 'G', 'C', 'G', 'A', 'G', 'G', 'C', 'G', 'A', 'A', 'G', 'G', 'G', 'G', 'T', 'T', 'T', 'A', 'A', 'G', 'A', 'G', 'T', 'G', 'C', 'C', 'G', 'C', 'C', 'G', 'C', 'T', 'G', 'G', 'T', 'A', 'A', 'G', 'G', 'G', 'T', 'C', 'A', 'A', 'A', 'G', 'C', 'T', 'G', 'C', 'A', 'A', 'T', 'G', 'T', 'T', 'T', 'A', 'G', 'T', 'G', 'A', 'C', 'T', 'T', 'A', 'G', 'G', 'C', 'T', 'G', 'A', 'G', 'T', 'A', 'C', 'T', 'G', 'C', 'G', 'T', 'C', 'C', 'G', 'T', 'G', 'G', 'C', 'T', 'T', 'T', 'G', 'T', 'T', 'T', 'T', 'T', 'T', 'C', 'C', 'A', 'T', 'A', 'A', 'G', 'C', 'A', 'A', 'G', 'T', 'A', 'T', 'G', 'C', 'C', 'A', 'G', 'T', 'G', 'G', 'C', 'G', 'A', 'T', 'C', 'T', 'T', 'A', 'T', 'A', 'T', 'A', 'C', 'G', 'A', 'T', 'T', 'C', 'C', 'G', 'T', 'C', 'A', 'A', 'T', 'C', 'T', 'T', 'G', 'T', 'G', 'C', 'T', 'G', 'C', 'C', 'C', 'G', 'T', 'C', 'T', 'A', 'C', 'C', 'T', 'A', 'C', 'A', 'A', 'T', 'A', 'C', 'G', 'G', 'T', 'T', 'G', 'A', 'T', 'A', 'G', 'C', 'T', 'A', 'T', 'A', 'C', 'C', 'A', 'C', 'C', 'C', 'A', 'G', 'T', 'C', 'T', 'A', 'C', 'C', 'C', 'G', 'T', 'A', 'T', 'A', 'G', 'A', 'G', 'A', 'A', 'C', 'C', 'G', 'C', 'T', 'A', 'T', 'T', 'C', 'A', 'C', 'A', 'A', 'G', 'A', 'A', 'A', 'A', 'G', 'G', 'G', 'G', 'C', 'C', 'G', 'G', 'C', 'T', 'T', 'T', 'A', 'G', 'G', 'A', 'G', 'C', 'A', 'G', 'T', 'A', 'A', 'A', 'C', 'C', 'T', 'G', 'T', 'T', 'T', 'G', 'G', 'A', 'G', 'A', 'T', 'C', 'G', 'A', 'G', 'T', 'G', 'C', 'A', 'A', 'G', 'T', 'T', 'C', 'C', 'C', 'A', 'A', 'G', 'T', 'C', 'A', 'T', 'C', 'A', 'A', 'C', 'G', 'A', 'A', 'A', 'G', 'G', 'T', 'T', 'G', 'A', 'A', 'G', 'G', 'G', 'G', 'T', 'C', 'G', 'T', 'A', 'T', 'C', 'T', 'T', 'C', 'C', 'C', 'C', 'C', 'G', 'G', 'C', 'C', 'C', 'T', 'G', 'T', 'G', 'G', 'T', 'T', 'A', 'G', 'C', 'C', 'G', 'C', 'C', 'G', 'C', 'C', 'T', 'A', 'A', 'C', 'G', 'T', 'C', 'C', 'C', 'T', 'T', 'A', 'G', 'G', 'A', 'A', 'C', 'T', 'G', 'G', 'G', 'G', 'C', 'T', 'T', 'G', 'C', 'A', 'T', 'A', 'G', 'C', 'C', 'C', 'T', 'G', 'T', 'A', 'A', 'G', 'C', 'G', 'C', 'G', 'C', 'T', 'T', 'C', 'A', 'C', 'T', 'G', 'C', 'G', 'C', 'G', 'A', 'A', 'C', 'A', 'A', 'A', 'G', 'A', 'C', 'G', 'T', 'G', 'A', 'A', 'C', 'T', 'G', 'T', 'G', 'A', 'A', 'T', 'T', 'T', 'T', 'T', 'G', 'A', 'C', 'C', 'A', 'A', 'T', 'T', 'A', 'T', 'T', 'C', 'C', 'G', 'A', 'T', 'C', 'T', 'G', 'A', 'C', 'A', 'A', 'G', 'A', 'G', 'T', 'T', 'T', 'A', 'A', 'G', 'C', 'T', 'C', 'G', 'A', 'C', 'T', 'G', 'C', 'A', 'G', 'C', 'A', 'G', 'T', 'C', 'C', 'T', 'T', 'C', 'G', 'G', 'T', 'A', 'G', 'G', 'A', 'G', 'C', 'A', 'T', 'T', 'T', 'T', 'T', 'A', 'T', 'A', 'T', 'T', 'G', 'T', 'A', 'G', 'G', 'C', 'C', 'C', 'G', 'C', 'G', 'A', 'G', 'C', 'G', 'C', 'A', 'G', 'A', 'C', 'C', 'G', 'C', 'T', 'G', 'G', 'G', 'T', 'T', 'T', 'G', 'G', 'A', 'T', 'C', 'A', 'G', 'C', 'A', 'G', 'G', 'T', 'C', 'A', 'A', 'C', 'G', 'C', 'C', 'G', 'C', 'C', 'G', 'T', 'T', 'C', 'C', 'T', 'G', 'A', 'T', 'G', 'T', 'G', 'T', 'T', 'G', 'G', 'C', 'G', 'T', 'A', 'C', 'G', 'C', 'A', 'G', 'C', 'G', 'T', 'A', 'C', 'G', 'A', 'G', 'A', 'C', 'C', 'A', 'G', 'C', 'C', 'A', 'A', 'C', 'T', 'A', 'G', 'A', 'G', 'A', 'G', 'A', 'C', 'C', 'A', 'G', 'T', 'G', 'C', 'G', 'A', 'A', 'C', 'T', 'G', 'C', 'C', 'G', 'T', 'T', 'G', 'A', 'G', 'A', 'G', 'T', 'C', 'C', 'C', 'T', 'C', 'A', 'C', 'A', 'C', 'G', 'T', 'T', 'A', 'A', 'C', 'T', 'A', 'G', 'T', 'A', 'C', 'T', 'G', 'A', 'A', 'C', 'G', 'T', 'G', 'T', 'C', 'G', 'A', 'T', 'T', 'T', 'C', 'C', 'T', 'G', 'C', 'A', 'T', 'T', 'T', 'G', 'C', 'A', 'C', 'A', 'C', 'G', 'G', 'C', 'T', 'G', 'C', 'C', 'C', 'A', 'A', 'A', 'G', 'C', 'G', 'T', 'G', 'T', 'A', 'T', 'G', 'C', 'C', 'A', 'A', 'C', 'C', 'C', 'G', 'A', 'C', 'A', 'G', 'G', 'A', 'T', 'C', 'C', 'T', 'C', 'A', 'C', 'A', 'C', 'A', 'C', 'T', 'T', 'G', 'A', 'A', 'C', 'G', 'T', 'T', 'C', 'A', 'A', 'T', 'T', 'A', 'G', 'G', 'T', 'A', 'G', 'T', 'T', 'G', 'A', 'C', 'G', 'C', 'A', 'C', 'G', 'A', 'C', 'G', 'G', 'A', 'C', 'A', 'G', 'C', 'G', 'A', 'G', 'A', 'C', 'A', 'T', 'A', 'A', 'A', 'T', 'A', 'T', 'G', 'C', 'G', 'A', 'A', 'A', 'T', 'T', 'C', 'C', 'C', 'T', 'G', 'T', 'T', 'C', 'A', 'G', 'T', 'G', 'C', 'G', 'A', 'G', 'A', 'G', 'T', 'A', 'A', 'G', 'G', 'G', 'G', 'G', 'A', 'G', 'C', 'G', 'C', 'T', 'A', 'T', 'G', 'G', 'G', 'A', 'C', 'G', 'A', 'C', 'A', 'C', 'T', 'C', 'A', 'C', 'T', 'G', 'C', 'C', 'T', 'T', 'C', 'T', 'A', 'T', 'G', 'T', 'A', 'A', 'T', 'T', 'A', 'A', 'A', 'C', 'A', 'T', 'G', 'C', 'C', 'C', 'G', 'A', 'A', 'T', 'A', 'C', 'G', 'A', 'G', 'G', 'G', 'C', 'A', 'A', 'G', 'A', 'G', 'C', 'A', 'G', 'G', 'G', 'T', 'T', 'A', 'T', 'G', 'T', 'G', 'A', 'T', 'C', 'T', 'T', 'T', 'A', 'G', 'G', 'G', 'G', 'A', 'G', 'G', 'T', 'T', 'A', 'T', 'C', 'A', 'G', 'A', 'T', 'G', 'C', 'C', 'G', 'T', 'C', 'T', 'A', 'A', 'T', 'T', 'A', 'G', 'T', 'A', 'G', 'C', 'G', 'C', 'C', 'A', 'G', 'T', 'G', 'G', 'T', 'C', 'G', 'A', 'A', 'G', 'C', 'C', 'A', 'A', 'G', 'C', 'A', 'A', 'G', 'T', 'C', 'T', 'G', 'C', 'C', 'C', 'T', 'A', 'C', 'A', 'G', 'A', 'G', 'T', 'G', 'G', 'T', 'T', 'T', 'T', 'G', 'G', 'A', 'A', 'A', 'C', 'G', 'G', 'C', 'A', 'G', 'A', 'G', 'A', 'C', 'C', 'C', 'C', 'T', 'T', 'T', 'C', 'T', 'T', 'A', 'G', 'T', 'C', 'T', 'C', 'A', 'A', 'G', 'A', 'A', 'A', 'C', 'A', 'T', 'T', 'A', 'T', 'G', 'G', 'C', 'C', 'G', 'C', 'T', 'C', 'T', 'A', 'T', 'G', 'T', 'C', 'A', 'G', 'G', 'G', 'C', 'C', 'A', 'A', 'G', 'T', 'C', 'C', 'A', 'T', 'A', 'A', 'G', 'A', 'G', 'G', 'T', 'A', 'T', 'C', 'C', 'G', 'T', 'T', 'C', 'G', 'G', 'G', 'T', 'T', 'T', 'A', 'T', 'G', 'G', 'T', 'T', 'A', 'A', 'T', 'A', 'A', 'T', 'A', 'C', 'G', 'C', 'A', 'T', 'T', 'C', 'T', 'T', 'G', 'T', 'C', 'G', 'T', 'C', 'A', 'G', 'C', 'A', 'C', 'G', 'C', 'T', 'C', 'T', 'C', 'T', 'G', 'A', 'G', 'T', 'A', 'A', 'A', 'T', 'T', 'G', 'G', 'T', 'A', 'C', 'G', 'T', 'T', 'A', 'C', 'T', 'C', 'T', 'A', 'G', 'G', 'A', 'T', 'A', 'C', 'C', 'T', 'G', 'T', 'G', 'T', 'A', 'T', 'T', 'G', 'A', 'T', 'A', 'C', 'T', 'C', 'C', 'C', 'G', 'G', 'T', 'A', 'C', 'A', 'C', 'T', 'T', 'G', 'C', 'C', 'C', 'A', 'C', 'G', 'A', 'G', 'T', 'T', 'A', 'T', 'A', 'T', 'T', 'T', 'T', 'T', 'G', 'T', 'G', 'C', 'T', 'C', 'G', 'G', 'G', 'G', 'G', 'A', 'A', 'A', 'G', 'A', 'G', 'A', 'A', 'T', 'A', 'G', 'T', 'T', 'T', 'T', 'G', 'G', 'G', 'C', 'T', 'C', 'C', 'G', 'G', 'G', 'G', 'C', 'T', 'G', 'C', 'G', 'A', 'G', 'A', 'G', 'T', 'T', 'T', 'A', 'G', 'C', 'G', 'G', 'A', 'A', 'A', 'C', 'A', 'A', 'A', 'G', 'T', 'G', 'T', 'A', 'A', 'G', 'C', 'G', 'C', 'C', 'C', 'C', 'T', 'C', 'G', 'T', 'A', 'C', 'A', 'G', 'T', 'A', 'T', 'T', 'T', 'C', 'C', 'T', 'C', 'C', 'C', 'T', 'G', 'A', 'T', 'C', 'T', 'C', 'G', 'G', 'C', 'A', 'C', 'G', 'G', 'G', 'T', 'T', 'G', 'G', 'A', 'C', 'A', 'G', 'C', 'G', 'C', 'G', 'G', 'A', 'C', 'C', 'C', 'T', 'C', 'G', 'A', 'G', 'T', 'C', 'C', 'T', 'A', 'A', 'G', 'G', 'T', 'G', 'A', 'C', 'T', 'T', 'C', 'T', 'A', 'C', 'T', 'G', 'T', 'A', 'G', 'A', 'T', 'C', 'C', 'T', 'G', 'C', 'T', 'C', 'C', 'G', 'G', 'C', 'C', 'G', 'A', 'T', 'T', 'C', 'T', 'A', 'C', 'T', 'G', 'T', 'G', 'A', 'G', 'T', 'A', 'C', 'G', 'C', 'C', 'G', 'G', 'C', 'A', 'C', 'G', 'G', 'C', 'T', 'G', 'C', 'C', 'A', 'C', 'A', 'G', 'C', 'T', 'A', 'G', 'G', 'T', 'T', 'G', 'G', 'C', 'T', 'G', 'A', 'T', 'A', 'T', 'G', 'T', 'A', 'G', 'C', 'A', 'A', 'A', 'G', 'G', 'A', 'C', 'A', 'A', 'G', 'G', 'A', 'C', 'A', 'T', 'G', 'C', 'A', 'A', 'T', 'G', 'A', 'A', 'A', 'A', 'A', 'A', 'G', 'G', 'A', 'T', 'A', 'A', 'C', 'A', 'T', 'T', 'T', 'C', 'T', 'A', 'T', 'G', 'C', 'C', 'C', 'G', 'C', 'T', 'C', 'C', 'T', 'C', 'G', 'T', 'A', 'C', 'A', 'G', 'G', 'A', 'C', 'G', 'T', 'C', 'T', 'G', 'G', 'G', 'G', 'G', 'G', 'A', 'G', 'C', 'C', 'G', 'G', 'A', 'G', 'C', 'C', 'T', 'A', 'A', 'G', 'T', 'T', 'C', 'T', 'G', 'A', 'A', 'G', 'T', 'G', 'T', 'T', 'T', 'A', 'A', 'G', 'C', 'G', 'A', 'G', 'T', 'G', 'G', 'C', 'G', 'G', 'T', 'G', 'G', 'A', 'A', 'T', 'C', 'C', 'T', 'A', 'T', 'A', 'A', 'G', 'G', 'A', 'A', 'T', 'A', 'C', 'C', 'T', 'G', 'A', 'T', 'G', 'G', 'C', 'A', 'C', 'C', 'C', 'T', 'G', 'G', 'T', 'G', 'A', 'G', 'G', 'A', 'T', 'T', 'A', 'A', 'T', 'A', 'C', 'A', 'T', 'C', 'C', 'T', 'G', 'C', 'G', 'A', 'C', 'C', 'G', 'C', 'G', 'A', 'A', 'A', 'C', 'T', 'C', 'T', 'T', 'A', 'A', 'A', 'G', 'C', 'T', 'A', 'C', 'G', 'C', 'C', 'C', 'T', 'A', 'C', 'G', 'C', 'G', 'G', 'T', 'T', 'G', 'C', 'T', 'C', 'A', 'G', 'T', 'A', 'A', 'T', 'T', 'C', 'C', 'G', 'T', 'T', 'A', 'G', 'G', 'C', 'C', 'A', 'G', 'T', 'G', 'T', 'C', 'T', 'G', 'C', 'A', 'C', 'C', 'A', 'A', 'A', 'A', 'C', 'T', 'C', 'A', 'T', 'T', 'A', 'A', 'T', 'C', 'T', 'T', 'G', 'C', 'T', 'C', 'G', 'A', 'T', 'C', 'T', 'T', 'T', 'C', 'T', 'T', 'C', 'T', 'C', 'A', 'G', 'C', 'G', 'C', 'C', 'T', 'G', 'A', 'A', 'A', 'C', 'C', 'T', 'T', 'G', 'T', 'G', 'G', 'T', 'C', 'G', 'G', 'T', 'G', 'A', 'T', 'G', 'T', 'C', 'A', 'A', 'A', 'A', 'A', 'T', 'A', 'T', 'C', 'T', 'G', 'G', 'C', 'T', 'C', 'T', 'C', 'T', 'C', 'T', 'A', 'G', 'T', 'A', 'C', 'A', 'T', 'G', 'C', 'T', 'C', 'A', 'G', 'A', 'G', 'G', 'G', 'A', 'T', 'A', 'C', 'A', 'T', 'G', 'A', 'G', 'G', 'A', 'T', 'C', 'C', 'A', 'T', 'A', 'T', 'A', 'G', 'A', 'T', 'G', 'C', 'G', 'A', 'T', 'T', 'T', 'C', 'A', 'G', 'C', 'C', 'T', 'C', 'A', 'C', 'G', 'A', 'G', 'C', 'A', 'C', 'T', 'T', 'C', 'T', 'G', 'T', 'A', 'T', 'C', 'T', 'T', 'G', 'A', 'G', 'T', 'A', 'G', 'C', 'C', 'C', 'A', 'G', 'C', 'A', 'T', 'G', 'C', 'C', 'G', 'G', 'C', 'C', 'T', 'A', 'A', 'A', 'C', 'A', 'G', 'G', 'G', 'T', 'A', 'G', 'T', 'T', 'A', 'G', 'T', 'G', 'T', 'T', 'G', 'G', 'G', 'G', 'T', 'C', 'C', 'G', 'T', 'G', 'C', 'T', 'C', 'C', 'G', 'T', 'A', 'T', 'C', 'T', 'G', 'G', 'C', 'T', 'G', 'A', 'G', 'T', 'T', 'C', 'A', 'A', 'A', 'C', 'A', 'A', 'G', 'G', 'T', 'C', 'C', 'C', 'T', 'T', 'C', 'G', 'C', 'C', 'C', 'A', 'G', 'G', 'A', 'G', 'C', 'A', 'C', 'T', 'A', 'C', 'C', 'G', 'T', 'C', 'A', 'A', 'A', 'C', 'G', 'A', 'G', 'G', 'G', 'T', 'T', 'A', 'T', 'C', 'A', 'G', 'A', 'A', 'A', 'T', 'A', 'G', 'C', 'T', 'C', 'C', 'G', 'T', 'G', 'A', 'T', 'A', 'C', 'G', 'C', 'C', 'T', 'A', 'G', 'T', 'T', 'A', 'G', 'A', 'C', 'A', 'G', 'G', 'A', 'C', 'C', 'T', 'C', 'C', 'C', 'C', 'G', 'C', 'T', 'T', 'A', 'A', 'G', 'G', 'G', 'T', 'C', 'C', 'A', 'T', 'A', 'G', 'A', 'C', 'G', 'A', 'T', 'A', 'C', 'A', 'G', 'G', 'T', 'A', 'C', 'G', 'C', 'A', 'A', 'A', 'C', 'G', 'A', 'G', 'T', 'C', 'A', 'A', 'A', 'C', 'C', 'A', 'C', 'T', 'A', 'G', 'G', 'C', 'A', 'C', 'T', 'C', 'C', 'T', 'A', 'A', 'C', 'A', 'G', 'A', 'G', 'C', 'C', 'A', 'T', 'A', 'G', 'C', 'G', 'T', 'A', 'G', 'G', 'C', 'T', 'A', 'C', 'A', 'T', 'T', 'G', 'T', 'G', 'G', 'T', 'G', 'C', 'G', 'G', 'T', 'C', 'C', 'A', 'G', 'C', 'G', 'A', 'C', 'C', 'C', 'C', 'G', 'G', 'A', 'C', 'A', 'T', 'A', 'G', 'G', 'A', 'T', 'G', 'C', 'C', 'A', 'G', 'G', 'T', 'A', 'T', 'C', 'G', 'C', 'G', 'T', 'A', 'G', 'A', 'G', 'G', 'T', 'T', 'G', 'A', 'C', 'A', 'A', 'A', 'G', 'C', 'A', 'A', 'G', 'G', 'G', 'T', 'G', 'G', 'C', 'A', 'C', 'C', 'G', 'A', 'A', 'A', 'A', 'A', 'C', 'G', 'A', 'T', 'A', 'G', 'C', 'A', 'T', 'C', 'G', 'C', 'G', 'T', 'G', 'G', 'C', 'G', 'A', 'C', 'C', 'G', 'T', 'C', 'C', 'T', 'T', 'G', 'A', 'A', 'G', 'A', 'A', 'C', 'A', 'T', 'A', 'C', 'G', 'C', 'T', 'C', 'T', 'G', 'C', 'G', 'A', 'A', 'T', 'G', 'T', 'G', 'T', 'T', 'C', 'G', 'T', 'C', 'A', 'T', 'G', 'T', 'C', 'C', 'G', 'A', 'T', 'T', 'A', 'A', 'T', 'G', 'A', 'G', 'C', 'G', 'G', 'C', 'G', 'G', 'A', 'C', 'C', 'G', 'T', 'T', 'G', 'A', 'T', 'C', 'T', 'C', 'A', 'G', 'G', 'C', 'G', 'C', 'G', 'T', 'T', 'C', 'G', 'G', 'T', 'A', 'A', 'G', 'T', 'A', 'G', 'A', 'A', 'C', 'A', 'C', 'C', 'A', 'A', 'G', 'C', 'G', 'C', 'T', 'C', 'G', 'T', 'T', 'G', 'T', 'A', 'C', 'A', 'G', 'T', 'A', 'T', 'G', 'T', 'C', 'C', 'C', 'A', 'A', 'A', 'T', 'T', 'G', 'G', 'A', 'C', 'G', 'C', 'G', 'A', 'A', 'T', 'C', 'T', 'C', 'G', 'G', 'A', 'G', 'C', 'T', 'C', 'C', 'C', 'A', 'A', 'A', 'T', 'C', 'A', 'T', 'G', 'C', 'G', 'C', 'G', 'G', 'T', 'G', 'A', 'A', 'G', 'G', 'A', 'A', 'A', 'C', 'T', 'G', 'C', 'A', 'G', 'A', 'C', 'C', 'T', 'A', 'T', 'G', 'C', 'C', 'G', 'T', 'A', 'T', 'A', 'T', 'G', 'T', 'C', 'T', 'A', 'G', 'G', 'T', 'A', 'T', 'T', 'T', 'G', 'A', 'C', 'T', 'C', 'G', 'T', 'A', 'T', 'G', 'A', 'T', 'C', 'C', 'G', 'C', 'C', 'T', 'G', 'C', 'G', 'G', 'G', 'G', 'A', 'C', 'T', 'T', 'A', 'A', 'T', 'G', 'T', 'T', 'A', 'T', 'T', 'G', 'C', 'T', 'C', 'A', 'C', 'A', 'A', 'C', 'T', 'C', 'G', 'C', 'T', 'T', 'A', 'G', 'T', 'G', 'G', 'G', 'C', 'T', 'A', 'G', 'T', 'A', 'C', 'A', 'A', 'T', 'C', 'T', 'G', 'C', 'A', 'G', 'G', 'G', 'A', 'T', 'T', 'T', 'T', 'C', 'C', 'A', 'T', 'T', 'T', 'C', 'C', 'A', 'G', 'G', 'A', 'C', 'T', 'G', 'T', 'T', 'A', 'A', 'C', 'A', 'T', 'G', 'C', 'T', 'A', 'A', 'G', 'A', 'A', 'C', 'T', 'T', 'A', 'G', 'T', 'C', 'G', 'C', 'C', 'C', 'C', 'T', 'T', 'C', 'A', 'G', 'C', 'A', 'C', 'G', 'G', 'A', 'C', 'T', 'A', 'T', 'A', 'G', 'A', 'A', 'T', 'A', 'A', 'T', 'C', 'C', 'C', 'A', 'G', 'T', 'G', 'A', 'G', 'T', 'G', 'T', 'A', 'A', 'T', 'A', 'A', 'T', 'T', 'C', 'G', 'G', 'A', 'G', 'T', 'G', 'T', 'A', 'T', 'T', 'C', 'A', 'T', 'C', 'A', 'A', 'A', 'T', 'G', 'T', 'T', 'C', 'C', 'T', 'C', 'T', 'C', 'T', 'G', 'C', 'T', 'G', 'A', 'G', 'A', 'G', 'G', 'T', 'T', 'G', 'G', 'G', 'C', 'T', 'T', 'C', 'G', 'C', 'G', 'T', 'A', 'C', 'G', 'G', 'T', 'C', 'G', 'T', 'T', 'A', 'G', 'G', 'C', 'A', 'A', 'G', 'T', 'A', 'C', 'C', 'T', 'G', 'G', 'A', 'G', 'A', 'T', 'T', 'T', 'A', 'T', 'T', 'G', 'T', 'G', 'A', 'A', 'A', 'T', 'A', 'G', 'C', 'G', 'C', 'T', 'C', 'C', 'T', 'T', 'C', 'G', 'G', 'T', 'A', 'A', 'T', 'T', 'A', 'T', 'T', 'G', 'C', 'T', 'C', 'C', 'A', 'C', 'C', 'T', 'A', 'C', 'C', 'T', 'C', 'G', 'A', 'G', 'A', 'A', 'C', 'A', 'T', 'C', 'T', 'C', 'T', 'C', 'G', 'C', 'C', 'G', 'C', 'G', 'G', 'A', 'G', 'G', 'C', 'G', 'T', 'C', 'T', 'T', 'C', 'G', 'C', 'G', 'G', 'A', 'G', 'A', 'A', 'A', 'T', 'C', 'C', 'C', 'C', 'T', 'G', 'C', 'C', 'T', 'A', 'G', 'C', 'T', 'G', 'G', 'G', 'A', 'C', 'T', 'C', 'C', 'C', 'T', 'C', 'A', 'C', 'G', 'T', 'C', 'A', 'T', 'C', 'A', 'C', 'A', 'G', 'G', 'C', 'T', 'T', 'A', 'A', 'G', 'T', 'A', 'C', 'G', 'C', 'A', 'T', 'T', 'T', 'T', 'T', 'C', 'A', 'C', 'A', 'A', 'C', 'T', 'T', 'C', 'A', 'C', 'C', 'A', 'C', 'C', 'T', 'T', 'C', 'G', 'C', 'G', 'C', 'T', 'C', 'C', 'A', 'G', 'T', 'A', 'G', 'C', 'T', 'C', 'C', 'G', 'C', 'T', 'C', 'A', 'A', 'T', 'C', 'T', 'T', 'G', 'C', 'C', 'A', 'C', 'T', 'T', 'C', 'T', 'G', 'G', 'A', 'T', 'C', 'C', 'A', 'C', 'C', 'A', 'C', 'G', 'T', 'A', 'A', 'A', 'T', 'A', 'T', 'G', 'C', 'G', 'A', 'G', 'G', 'C', 'A', 'A', 'G', 'C', 'G', 'C', 'T', 'T', 'G', 'C', 'C', 'A', 'G', 'C', 'G', 'T', 'G', 'A', 'G', 'A', 'T', 'T', 'C', 'C', 'C', 'A', 'G', 'A', 'A', 'T', 'G', 'G', 'G', 'T', 'G', 'G', 'T', 'A', 'A', 'C', 'A', 'G', 'T', 'G', 'G', 'T', 'C', 'C', 'A', 'T', 'T', 'C', 'C', 'C', 'C', 'A', 'G', 'A', 'C', 'C', 'C', 'T', 'A', 'G', 'C', 'C', 'T', 'A', 'A', 'A', 'T', 'A', 'A', 'G', 'T', 'G', 'T', 'C', 'C', 'C', 'C', 'A', 'G', 'T', 'G', 'A', 'G', 'C', 'G', 'C', 'A', 'A', 'C', 'A', 'G', 'T', 'A', 'T', 'C', 'A', 'G', 'C', 'G', 'A', 'G', 'G', 'C', 'A', 'G', 'G', 'C', 'T', 'T', 'A', 'C', 'G', 'G', 'C', 'C', 'A', 'A', 'C', 'A', 'T', 'G', 'T', 'T', 'A', 'A', 'C', 'T', 'A', 'G', 'A', 'A', 'A', 'G', 'T', 'A', 'T', 'T', 'C', 'G', 'T', 'G', 'C', 'T', 'A', 'C', 'C', 'G', 'G', 'G', 'T', 'G', 'A', 'T', 'C', 'G', 'A', 'G', 'A', 'A', 'T', 'C', 'T', 'A', 'T', 'A', 'T', 'G', 'T', 'T', 'T', 'A', 'A', 'G', 'A', 'T', 'G', 'T', 'A', 'C', 'G', 'T', 'A', 'A', 'T', 'T', 'G', 'A', 'T', 'C', 'A', 'A', 'A', 'T', 'C', 'C', 'G', 'C', 'A', 'C', 'C', 'A', 'C', 'T', 'A', 'A', 'C', 'T', 'T', 'G', 'C', 'T', 'C', 'A', 'A', 'C', 'G', 'C', 'G', 'G', 'T', 'T', 'G', 'A', 'G', 'A', 'G', 'T', 'A', 'A', 'T', 'A', 'T', 'A', 'A', 'C', 'A', 'G', 'T', 'C', 'G', 'T', 'A', 'C', 'G', 'A', 'G', 'T', 'T', 'G', 'T', 'T', 'G', 'G', 'T', 'G', 'G', 'G', 'G', 'G', 'T', 'C', 'A', 'A', 'G', 'T', 'A', 'C', 'A', 'G', 'G', 'A', 'T', 'A', 'T', 'C', 'G', 'G', 'G', 'G', 'T', 'C', 'A', 'T', 'T', 'A', 'A', 'G', 'G', 'T', 'G', 'T', 'T', 'G', 'C', 'T', 'A', 'A', 'T', 'T', 'G', 'A', 'T', 'T', 'C', 'G', 'C', 'T', 'T', 'T', 'A', 'C', 'C', 'C', 'G', 'G', 'G', 'T', 'G', 'G', 'A', 'C', 'G', 'G', 'T', 'G', 'C', 'T', 'T', 'A', 'G', 'G', 'T', 'G', 'T', 'C', 'T', 'A', 'A', 'G', 'A', 'A', 'T', 'A', 'G', 'A', 'G', 'C', 'C', 'T', 'G', 'C', 'A', 'A', 'C', 'T', 'A', 'G', 'C', 'C', 'A', 'A', 'A', 'T', 'G', 'G', 'G', 'C', 'A', 'G', 'C', 'C', 'C', 'T', 'T', 'G', 'G', 'C', 'G', 'T', 'T', 'T', 'T', 'A', 'A', 'G', 'C', 'T', 'T', 'A', 'T']\n"
     ]
    }
   ],
   "source": [
    "R= [rn.choice(['A','T','G','C'])for i in range(10000)]\n",
    "print(R)\n",
    "                                              "
   ]
  },
  {
   "cell_type": "code",
   "execution_count": 38,
   "metadata": {},
   "outputs": [
    {
     "data": {
      "text/plain": [
       "'CGCGACCGCTCATTTTGCGAGTCCGATCGGAGTGTCTAACTTTATGATAGAGGGTCCACATAATGTGCTTATTAGTTTCCATCCCTTCGTAGCAAAGCGGACGTGAGATCTCTTCATCTTGTTGGCGTCTACACATTAGATGAGCTACGAGGCACGTGGTCATTCGTTCTGGGTTGGGGGGTTTAAAGCAAGGGAACTGATTAGTGTTTATATGGTTCCCGTACGAAGCATTAGGCAATCTTTTACTCAAGAATTCGGCTAAGTTATACGACGGCCAGGATGTATACCCTAGTTAACCCGTGGAAGTGCAGCCTGGCGCATGACTAGGTCCTGGGCGGCTAGATCTGAAGTGCAATCTATAGAACCACAGCAGCCCGACGGGGGTTGTCGGGATTTACTGACGTCGTGAATTGATGGCCTAATACTGCATCATAGACTCTGGAGGCAGTTGACCAAAAGGGACCACCGTACGGCTTAATGTTTCATCAATCCTGACGGCGCAGTCCGTGAAAACGCAGGCTTATCATCACAGCTCGTGCAACTCCCCATGGCTTCGTCTTATGACGACGGTAACAACAAGCACGGTGGAGTGTAAGCCCCACTGGATCGTTGTAACAGTCCGTGCGCAAGGGAAGACCTTATATAAGCATATTGCGTCTACTCAATGGCCCTAACATCCATGATATTCATGCGCTGCCTGAAACGCGTTGGGCGGGTGCCGGATGCAGAAGGCGCTAGATACCGCCATTACTGAGTGCTTACGTTTATGAAAGGCTTCTATGGGGTATGCTGCCTTGACTTGGAGTACGCAGCTCAATAGCAAGGTGGACGCACACCAACTCGCTGGATTGACGGCTCGGTCAGTATAAGATGTATTGCAATGCCAGCCTGGTAGGAGCCTATGTGAGTGATCCCATTTCCTCAAAGATGGGCATTAGCACACTATCGCTCTCTAATCGTGTGACGTAAACAGCAGGCTCTGCGGTTGAATCACACCATTAGATCAGCTTAGCCTAGAAATACCCAGGGAACTGTTGACAGATCACATCCTATCACCTAGTCCAGGAGATAGTAAATCGCGCTGGTCCCTAACTTAATACCGACAACAGAGTCAAATGTTTCCACCTTATATTGGAGCAGCAATAGCTTACCTTAGCACGGTTAGCGCGAAGAGTTGCTTGGTCTTAGCGTCTATATCGAGTAGTAGCCATTGGAGGTTCGTAATCTTCACCAGTAATCTCGGACGTAGTTGAAAGTTTTTGGCTACCGGATTGTGGGGTAGGATAGAGGACAGAACCCGGTGCAACCTACTGGATAGCTAGGCTGAAGGGTATAACTGGCAAACTATCGTAGACATATGTGCACGTTACTTCCCATACGACTCCAAGGCAATCTGCGCGTGCCCACTTTACGGGTTGTTAGACGTACCACTGAGAGCATACGCCGTCCACGTTCCTGTGACAGGGGTCGTCGCTGGTGCGTACGGGTTCGGGTGATGACATACGCTGTTCAGGCAACATTCAATGGTTGTCACACGGCGACTCGCCAAGGCCTCATTCGTGAGCGGGAATGTCCCCAGCCGTATACCTCGCATACGTCAACTGCTTCCAACTAAGCCCCATTAAATCCTTGTATTATTTGTCGATTACAGATTATTTTGGTATACAGCGCAGTTTCGATCTATCCGTGCGCCGCACTAATAGAGTAGTCATTTAAGAACTACGAACGTATACAGTTGGCGATGCGCACGCCCCAAGACCTAACAGACGACTTAAATGTGGTACGCCTCGGTCGGCAGTAAGTTCCACGAGTAGCTACTGTGTAGTGTCCAGCCGGACTGCCGACAGTCTGTCGACCCGAAGATGGTGAGTGGGCAAAGCCGAAAAGTCGCTTGACGTACCTAGTGCAACGGACACTGTACAATCCTGCGGCCGGACTGAGATATTGATTTACGTGTGTGTGGAGTAATATGAGTTGGAAAGTCTGTGACTCTTGGATCTATCCAGCTTCACGAGAAGTGAGTAACGCTCTTCCACGAGAGCGCCGGTACGTAAAAACTACACGGCCTCTGCTGGGTGGGGGCGCGGCCAGAATTATTGCAATAAAATAAAAGCTATATATAGGTGGCATGCTCGAACGCGTGTCCGCAAGATTACCTAATCGTCGTAGTCGCATGATGCACTAGGAATGTGATTCAGCCACCTAGGATCTGCAGTGACTGTGCTGACAGCTGCATCCGGCCTATCGGTGTAACCATGAAAAGGTAGATCTACTTTGACAGTGGTGCTTTATCAATACCGCTCACAATACCTTCTCTCCCTCGACCTTTGGGGGTTTGGTCGGCGAGATCGTGCAACGTGGCGAAGGTGCATTCATGAAAAAGAAATCATGGGAACTTGAATAATCTGCCTTGCGGACGCGGAATAATAGTCTAAGCAAAACCGACTCCGGGCGAGTTCAGTGTCCTCGCGGAGGAGAACCCTAATACCCTTCTGGGTTGGGGGCTACACACCTCACTTCCTGAAGTTATGTTTAAAGACCCAAGAACGAATGCGGTCGTAGGAGTTAATCGGTAGCTTGGAACTAATGGAATGCCTATGAAATAAAGGGCGTGCATGTGCGAGCAGGGACACCGCTATCAACACCAGAGCCTCTCAGATTACAAGTGACTGAAGATCAACATCACCTGGAACCGGCCGTGCCAGCTTAGTTCTACAAATTGAGCGTTAGCAGGAATCACATGAGGCCTGACACCCACCTAGGCCTACCATGCCTCCTGCACGTCATCACTTTTGAGACGTGCGGTAGACTTGGTCCCTAAAAGGCATAGTCATTAGGCAACGAAGATGATTGTGAGTGTGATGAACGTTACTTTTTAACCCGGAATTCTCGCTTGATGAAAAGGGACATCTGGTGAGGGTATCCGTATGTTTTCCTGGTGGGAAGATCGCGTCTGACGTACTAAAGACACACATTGTTTCTCTGAGTGTTGCGTTGTCCAACCTTGATTTGGGTATGCTAAATTGCGCTGTTCGCACGAAACCCAACAGTCATCTAGGGCCGGTCAGGTGCAATCGGGATAGCGTTAGATAGCCTTGTTTTACGAAAAGATATGCAGCTCTGCCGCAAGACAGAAGCTTCGCGGCTGGCACCCAACTATAATCGTGTCCCATTATTAACACATGGTCTTCGGTCACGTTCCCAATTGTTGGCGTGGGATCGCTACAAGGGAGTTATAGGTCGATATTTGTCTGCTTCAGCCCTTACCTTCTATCATATGTGTAAAGTCCACGAATCGCCACCGGGACCTCCCCACGCTTGTATACAACCGCGTGGCCATGATATGGATGTCAGACGGCTAGTGAAGCCAACTCTAAGTTGGTTGTAAATTTCCCTTAGCAGCCGCCTCCCGGGGTAAAAGCAGTGGATGGGTTTTGTTCCAGTGACGGCCAGAACGTCTTCAGGGATTTTAAACTGAACCCAAGGGTGCGTCCGCTGTTGTTGTCGATGGGCACCTATCTCTAGACAGATGATGACGGTTAAGGAGCGAAGGAGTACCTATGCTAATAGGTAAGTTGTAGCGAACACTGGAGTAGTACGGCGTAAGCCTGGTCTATGATTTGGTCGCCATTTCTCACGACCATAGGAAATACGTCAGACGCTGATGAATGGGCTTTGGGACAGGAAAGTTTGGGAATGATTACAAACAATTCCTGAATAGTCAGTTACGCCCTGGACGGTCGGGCCTTGCGAGCTTCCATCCAGTAGTGCAGTGCTATAAGACAATTTGAGTGCTCATTAGTTTGACACCTTCCCTGTAGAGAACCCTCTGAATCCCCAGTTCTGACTCCATAGCTTTCTCCGGTTATCTACCGGGAAGCGCGACATGCGTGGCGCCCATGCCCTTTATCGCGCCTATTGGTTGAAGTGGATGGTGCTCAACGCGGTCCGGGTATCCAATTTGAAGTCTATGGGCGCAGATAGAGCATGTAGGGTGTGAAATAGGACTACTTCCATTGCACGTAGGCAACAAAGGTAAGGATATAGCAGCCGCGCGGTATTCCTTACATCTAGTCTTGCTTATGAAGTGTGAGCTCCTATGAGAACGTACGAGATCAAGTATTCGGCTGCTCCATCCCGAGCACTACGGATGCCTCTTTGAGAGCAGCACTAAATTAGATAGTTTGCCGAAACTTGCGCGATCTCTATAGATGTGCCTTAAACAAAACCGGGGTCGCACCAACTACCAGGATACGTTAACTGCATAACCGGAATATAACTACTGCGGTCAAGACTTAAGGTACTCATGGGAGACTGCTCAGAGGAATGCCCGCATCAGCCGTACACCGACACATCTTGATCCCCGGAGATCGGTAACGTTCGGTCAAAGAATAGTCACGCACTATCGGTAAGCTTGAAAGAGGGACTAGCGGATCCGCCATGGATGATATTAGGCCCCAGGTCGGTCTTAGGGTCCCCGACTAATCGGGCCCGTCCGACTTTGGGAGTGTACATCAGCAAAAGGAAATGTCGTGCTGGCTCTCTAGTAGGGCTTTGACCAGCGTCCGTAGCCAAATAAGCCATATTCGGACCGCTAAAGAGATGAGGTAGTCATCAAGTAATAAGGATGGAATGTGAGCTCGAGCCCTTTGGCCATAACAGGTCCGGATAGGGGCACAGTTAAATTGTCTATGGGTCAGGCCACCACAAAGCGAAGAGTTGGTCGGTCGCGACAAATACCCGGTCTGGCGTGAATGAAAACGTTCATGCTTTCCGGCACTGCTTGGTTTTACCTGAGATTATTGATCTCCACTAGTAGGCTCCGCTGAATGAAAACTATAGCCATGCCGGGCCTGAGATTCAACTGAAGTGCCAGTGGGAGATTACGCGAACGCCCGGCGAGGGATGTATAGGCGGTTTGAGAGTTCTTGATCCCGTTGTAAACTCGAAGACCCCTGATTCAAGCGACTTGCTGCGACAGTTCGGGGGAGCATAAGAGATTGACCATAAAGGGATTACAATAGCCGTGCAGTCGCCTTGATTTACATGAGGCTCACTTGCTGAAGTGAGTAATGTTAATCCTAAAAACGTATGACTGTGACATCCAGCCGAAGGGATTCGGATGAGGGGGCCGCTGTGCCTAGACTGGAGGAGGCCGTGGGGGCAAGACGACCCACGGAAAGCGCGTGCTGTGTGTGTTCGTTTCGTTTATCGTGTAGCTGAATTTTGTAGTACCGGACCGATCACCGGGCACCGCCTTTATAGCAAGTACATACGCTGTCGCGTCTGACTAGACGGCGGAACCCTAAGTTTCCAAAGGCTGTATGGAAGCCGGTCGGCCATAACTAGCCACGCCGGAGTGCATCACCCACCTGAAATCTTTCATGACAGCTCTCAACCGATCCTGAGCACTGGAAGATTAAAGCGGTCTCCGGACACCCCGAAGCTCTGTACCTTATACCAGCTTCGCTCTCTCCGATATAGTTAGCGTATCAAATCTCGTTACCGTTTGTATTAAGATTCCAGGGCTGGTGTTGCTAAGCCTCCTAGAGCGACCATGCGATCGTACGTGTTCTTTCGCTGTACCGCTTTGACGATAACTATGGCAATTCGAATAACAGGTCGGACTCGAAGTGGATCTAATGTGTCTGATCTAACTCCGGGTGCCATACCCACTCGCCTACTGTATTTTCATGTGACATCTGTCCCGAGGCCGGCTGCGCCCTAGTCTCGCTCGAACTTTCGTGGATTCATCATCGTATTAATTAAGCGTTTTTAATTGTCGTAGTGTGGAGTTCGGATTCAACTTGGGGTATTCATTCCTAGCTCAGGAACAGTCATAGAGTCACATTGTACGTCACGGTGTCAAACGGCGGCGTTCCAATGCACGTTGTAGCACACGCCTCCCGTGATGTACACCTACACAAACGAAAATCAAAGAGTCTTAGAAAATCGAGTTTTTATAAGGGTTACGCGGCGCTCCTCAGCCTTTGTATGTGTTTGAGGGGTCAGGCTTCATCTCGAGGGTTCACTACGTCACGAGCGGCTGACTAATTTTTGAACTCAAGGACACGACCATGTTGACAGTTCCAGAGTCGCAGTTGTGCGTTGATACGGGCATCAAAAGATATTCAAACCTTGACCCTGAGAACACACGATGGCGTGATATTTCCATAGCCTAAGGCGAGGCCTGGGACCATACGTTAAACTAGGCTCAGTCCTGTGAAATACGGGTTCGGCGGCCTATATGACGCCACGAAGTGGCCTTGGCGTCACAGGAAATTCTCTCCCGTCTGTAAGCTTATTATGGTTGAGAACCCCATTCTGCCCGAATTTCCGCGGTAGCGGACAAGCTCATACTCTGGCAGAGCTGTTAGACCGCACCGCTGCCCGATTCTAAAAGCTCTATCACCCACTCTTCCAGGTGTGACTCTTAGACCCCATTAGAGGGCGTGAGCCTCGTTTACTTGACTCGATATATACGCTAAGTTCTCTGCACGACCATATAACGTCTCTCGAGAGTGGAGCCAAAGGTACACTGCGTTCGCCTGCGTGCGGGTTTGGATCTCCCTTCGTGGGTTAAAGCTTGACGCACAATCTGTCCAAGCCCGGTTGACTTCAAAAGTGCTCGCTCAATCATAATCTCTCTGCCAGAACCTGAGACCTATATCTAGGGGTGTCCCGCACGGCGCCTGCCGTACCGTGGGCCCACGTAAGAGCCGGATGTGACTTCGCAGGAGCCCCAGTATCGAAGCGGTTTCGGCCAAAAGATGAGACTGCTGGCTGTGTGAGGCTCCAAGCCGTGGCGCGAGGCGAAGGGGTTTAAGAGTGCCGCCGCTGGTAAGGGTCAAAGCTGCAATGTTTAGTGACTTAGGCTGAGTACTGCGTCCGTGGCTTTGTTTTTTCCATAAGCAAGTATGCCAGTGGCGATCTTATATACGATTCCGTCAATCTTGTGCTGCCCGTCTACCTACAATACGGTTGATAGCTATACCACCCAGTCTACCCGTATAGAGAACCGCTATTCACAAGAAAAGGGGCCGGCTTTAGGAGCAGTAAACCTGTTTGGAGATCGAGTGCAAGTTCCCAAGTCATCAACGAAAGGTTGAAGGGGTCGTATCTTCCCCCGGCCCTGTGGTTAGCCGCCGCCTAACGTCCCTTAGGAACTGGGGCTTGCATAGCCCTGTAAGCGCGCTTCACTGCGCGAACAAAGACGTGAACTGTGAATTTTTGACCAATTATTCCGATCTGACAAGAGTTTAAGCTCGACTGCAGCAGTCCTTCGGTAGGAGCATTTTTATATTGTAGGCCCGCGAGCGCAGACCGCTGGGTTTGGATCAGCAGGTCAACGCCGCCGTTCCTGATGTGTTGGCGTACGCAGCGTACGAGACCAGCCAACTAGAGAGACCAGTGCGAACTGCCGTTGAGAGTCCCTCACACGTTAACTAGTACTGAACGTGTCGATTTCCTGCATTTGCACACGGCTGCCCAAAGCGTGTATGCCAACCCGACAGGATCCTCACACACTTGAACGTTCAATTAGGTAGTTGACGCACGACGGACAGCGAGACATAAATATGCGAAATTCCCTGTTCAGTGCGAGAGTAAGGGGGAGCGCTATGGGACGACACTCACTGCCTTCTATGTAATTAAACATGCCCGAATACGAGGGCAAGAGCAGGGTTATGTGATCTTTAGGGGAGGTTATCAGATGCCGTCTAATTAGTAGCGCCAGTGGTCGAAGCCAAGCAAGTCTGCCCTACAGAGTGGTTTTGGAAACGGCAGAGACCCCTTTCTTAGTCTCAAGAAACATTATGGCCGCTCTATGTCAGGGCCAAGTCCATAAGAGGTATCCGTTCGGGTTTATGGTTAATAATACGCATTCTTGTCGTCAGCACGCTCTCTGAGTAAATTGGTACGTTACTCTAGGATACCTGTGTATTGATACTCCCGGTACACTTGCCCACGAGTTATATTTTTGTGCTCGGGGGAAAGAGAATAGTTTTGGGCTCCGGGGCTGCGAGAGTTTAGCGGAAACAAAGTGTAAGCGCCCCTCGTACAGTATTTCCTCCCTGATCTCGGCACGGGTTGGACAGCGCGGACCCTCGAGTCCTAAGGTGACTTCTACTGTAGATCCTGCTCCGGCCGATTCTACTGTGAGTACGCCGGCACGGCTGCCACAGCTAGGTTGGCTGATATGTAGCAAAGGACAAGGACATGCAATGAAAAAAGGATAACATTTCTATGCCCGCTCCTCGTACAGGACGTCTGGGGGGAGCCGGAGCCTAAGTTCTGAAGTGTTTAAGCGAGTGGCGGTGGAATCCTATAAGGAATACCTGATGGCACCCTGGTGAGGATTAATACATCCTGCGACCGCGAAACTCTTAAAGCTACGCCCTACGCGGTTGCTCAGTAATTCCGTTAGGCCAGTGTCTGCACCAAAACTCATTAATCTTGCTCGATCTTTCTTCTCAGCGCCTGAAACCTTGTGGTCGGTGATGTCAAAAATATCTGGCTCTCTCTAGTACATGCTCAGAGGGATACATGAGGATCCATATAGATGCGATTTCAGCCTCACGAGCACTTCTGTATCTTGAGTAGCCCAGCATGCCGGCCTAAACAGGGTAGTTAGTGTTGGGGTCCGTGCTCCGTATCTGGCTGAGTTCAAACAAGGTCCCTTCGCCCAGGAGCACTACCGTCAAACGAGGGTTATCAGAAATAGCTCCGTGATACGCCTAGTTAGACAGGACCTCCCCGCTTAAGGGTCCATAGACGATACAGGTACGCAAACGAGTCAAACCACTAGGCACTCCTAACAGAGCCATAGCGTAGGCTACATTGTGGTGCGGTCCAGCGACCCCGGACATAGGATGCCAGGTATCGCGTAGAGGTTGACAAAGCAAGGGTGGCACCGAAAAACGATAGCATCGCGTGGCGACCGTCCTTGAAGAACATACGCTCTGCGAATGTGTTCGTCATGTCCGATTAATGAGCGGCGGACCGTTGATCTCAGGCGCGTTCGGTAAGTAGAACACCAAGCGCTCGTTGTACAGTATGTCCCAAATTGGACGCGAATCTCGGAGCTCCCAAATCATGCGCGGTGAAGGAAACTGCAGACCTATGCCGTATATGTCTAGGTATTTGACTCGTATGATCCGCCTGCGGGGACTTAATGTTATTGCTCACAACTCGCTTAGTGGGCTAGTACAATCTGCAGGGATTTTCCATTTCCAGGACTGTTAACATGCTAAGAACTTAGTCGCCCCTTCAGCACGGACTATAGAATAATCCCAGTGAGTGTAATAATTCGGAGTGTATTCATCAAATGTTCCTCTCTGCTGAGAGGTTGGGCTTCGCGTACGGTCGTTAGGCAAGTACCTGGAGATTTATTGTGAAATAGCGCTCCTTCGGTAATTATTGCTCCACCTACCTCGAGAACATCTCTCGCCGCGGAGGCGTCTTCGCGGAGAAATCCCCTGCCTAGCTGGGACTCCCTCACGTCATCACAGGCTTAAGTACGCATTTTTCACAACTTCACCACCTTCGCGCTCCAGTAGCTCCGCTCAATCTTGCCACTTCTGGATCCACCACGTAAATATGCGAGGCAAGCGCTTGCCAGCGTGAGATTCCCAGAATGGGTGGTAACAGTGGTCCATTCCCCAGACCCTAGCCTAAATAAGTGTCCCCAGTGAGCGCAACAGTATCAGCGAGGCAGGCTTACGGCCAACATGTTAACTAGAAAGTATTCGTGCTACCGGGTGATCGAGAATCTATATGTTTAAGATGTACGTAATTGATCAAATCCGCACCACTAACTTGCTCAACGCGGTTGAGAGTAATATAACAGTCGTACGAGTTGTTGGTGGGGGTCAAGTACAGGATATCGGGGTCATTAAGGTGTTGCTAATTGATTCGCTTTACCCGGGTGGACGGTGCTTAGGTGTCTAAGAATAGAGCCTGCAACTAGCCAAATGGGCAGCCCTTGGCGTTTTAAGCTTAT'"
      ]
     },
     "execution_count": 38,
     "metadata": {},
     "output_type": "execute_result"
    }
   ],
   "source": [
    "DNA= ''.join(R)\n",
    "DNA"
   ]
  },
  {
   "cell_type": "code",
   "execution_count": 40,
   "metadata": {},
   "outputs": [
    {
     "data": {
      "text/plain": [
       "(2477, 2600, 599, 148)"
      ]
     },
     "execution_count": 40,
     "metadata": {},
     "output_type": "execute_result"
    }
   ],
   "source": [
    "DNA.count('A'),DNA.count('G'),DNA.count('AT'),DNA.count('ATG')"
   ]
  },
  {
   "cell_type": "markdown",
   "metadata": {},
   "source": [
    "Tuples"
   ]
  },
  {
   "cell_type": "markdown",
   "metadata": {},
   "source": [
    "- To define a tuples from scratch"
   ]
  },
  {
   "cell_type": "code",
   "execution_count": null,
   "metadata": {},
   "outputs": [],
   "source": []
  },
  {
   "cell_type": "code",
   "execution_count": 87,
   "metadata": {},
   "outputs": [],
   "source": [
    "t = (2,3,4,5)"
   ]
  },
  {
   "cell_type": "markdown",
   "metadata": {},
   "source": [
    "- Find type"
   ]
  },
  {
   "cell_type": "code",
   "execution_count": 88,
   "metadata": {},
   "outputs": [
    {
     "data": {
      "text/plain": [
       "tuple"
      ]
     },
     "execution_count": 88,
     "metadata": {},
     "output_type": "execute_result"
    }
   ],
   "source": [
    "type(t)"
   ]
  },
  {
   "cell_type": "markdown",
   "metadata": {},
   "source": [
    "- Indexing"
   ]
  },
  {
   "cell_type": "code",
   "execution_count": 24,
   "metadata": {},
   "outputs": [
    {
     "data": {
      "text/plain": [
       "3"
      ]
     },
     "execution_count": 24,
     "metadata": {},
     "output_type": "execute_result"
    }
   ],
   "source": [
    "t[1]"
   ]
  },
  {
   "cell_type": "code",
   "execution_count": 47,
   "metadata": {},
   "outputs": [],
   "source": [
    "L = [(1,2),(2,3),(3,4)]"
   ]
  },
  {
   "cell_type": "code",
   "execution_count": 48,
   "metadata": {},
   "outputs": [
    {
     "data": {
      "text/plain": [
       "3"
      ]
     },
     "execution_count": 48,
     "metadata": {},
     "output_type": "execute_result"
    }
   ],
   "source": [
    "L[1][1]"
   ]
  },
  {
   "cell_type": "markdown",
   "metadata": {},
   "source": [
    "- Create a list of tuples"
   ]
  },
  {
   "cell_type": "code",
   "execution_count": 46,
   "metadata": {},
   "outputs": [
    {
     "data": {
      "text/plain": [
       "[(1, 2), ('a', 'b'), (True, False)]"
      ]
     },
     "execution_count": 46,
     "metadata": {},
     "output_type": "execute_result"
    }
   ],
   "source": [
    "L = [(1,2),(\"a\",\"b\"),(True, False)]\n",
    "L"
   ]
  },
  {
   "cell_type": "markdown",
   "metadata": {},
   "source": [
    "### Dictionary\n",
    "\n",
    "Dictionary organizes the data with key-value pair. Dictionary can be nested with other data types."
   ]
  },
  {
   "cell_type": "markdown",
   "metadata": {},
   "source": [
    "- To initiate a dictionary"
   ]
  },
  {
   "cell_type": "code",
   "execution_count": 38,
   "metadata": {},
   "outputs": [],
   "source": [
    "D = dict()\n",
    "DD = {}"
   ]
  },
  {
   "cell_type": "markdown",
   "metadata": {},
   "source": [
    "- Create a dictionary from scratch"
   ]
  },
  {
   "cell_type": "code",
   "execution_count": 49,
   "metadata": {},
   "outputs": [],
   "source": [
    "D = {\"fruit\":'apple',\n",
    "    \"vegetable\" : 'carrot',\n",
    "    \"rice\": 5.0,\n",
    "    'milk': 20,}"
   ]
  },
  {
   "cell_type": "markdown",
   "metadata": {},
   "source": [
    "- What are keys?"
   ]
  },
  {
   "cell_type": "code",
   "execution_count": 90,
   "metadata": {},
   "outputs": [
    {
     "data": {
      "text/plain": [
       "dict_keys(['fruit', 'vegetable', 'rice', 'milk'])"
      ]
     },
     "execution_count": 90,
     "metadata": {},
     "output_type": "execute_result"
    }
   ],
   "source": [
    "D.keys()"
   ]
  },
  {
   "cell_type": "markdown",
   "metadata": {},
   "source": [
    "- What are values?"
   ]
  },
  {
   "cell_type": "code",
   "execution_count": 50,
   "metadata": {},
   "outputs": [
    {
     "data": {
      "text/plain": [
       "dict_values(['apple', 'carrot', 5.0, 20])"
      ]
     },
     "execution_count": 50,
     "metadata": {},
     "output_type": "execute_result"
    }
   ],
   "source": [
    "D.values()"
   ]
  },
  {
   "cell_type": "markdown",
   "metadata": {},
   "source": [
    "- Indexing"
   ]
  },
  {
   "cell_type": "code",
   "execution_count": 51,
   "metadata": {},
   "outputs": [
    {
     "data": {
      "text/plain": [
       "('apple', 5.0)"
      ]
     },
     "execution_count": 51,
     "metadata": {},
     "output_type": "execute_result"
    }
   ],
   "source": [
    "D['fruit'], D[\"rice\"]"
   ]
  },
  {
   "cell_type": "markdown",
   "metadata": {},
   "source": [
    "- Iteration over key and values"
   ]
  },
  {
   "cell_type": "code",
   "execution_count": 52,
   "metadata": {},
   "outputs": [
    {
     "name": "stdout",
     "output_type": "stream",
     "text": [
      "fruit apple\n",
      "vegetable carrot\n",
      "rice 5.0\n",
      "milk 20\n"
     ]
    }
   ],
   "source": [
    "for key,value in D.items():\n",
    "    print(key,value)"
   ]
  },
  {
   "cell_type": "markdown",
   "metadata": {},
   "source": [
    "- To update a dictionary"
   ]
  },
  {
   "cell_type": "code",
   "execution_count": 29,
   "metadata": {},
   "outputs": [
    {
     "data": {
      "text/plain": [
       "{'fruit': 'apple', 'vegetable': 'carrot', 'rice': 2.0, 'milk': 10, 'salt': 2.0}"
      ]
     },
     "execution_count": 29,
     "metadata": {},
     "output_type": "execute_result"
    }
   ],
   "source": [
    "D.update({\"salt\": 2.0})\n",
    "D"
   ]
  },
  {
   "cell_type": "markdown",
   "metadata": {},
   "source": [
    "- To create a list form a Dictionary. Only keys are collected."
   ]
  },
  {
   "cell_type": "code",
   "execution_count": 43,
   "metadata": {},
   "outputs": [
    {
     "data": {
      "text/plain": [
       "['fruit', 'vegetable', 'rice', 'milk']"
      ]
     },
     "execution_count": 43,
     "metadata": {},
     "output_type": "execute_result"
    }
   ],
   "source": [
    "list(D)"
   ]
  },
  {
   "cell_type": "markdown",
   "metadata": {},
   "source": [
    "- To create a list of keys only"
   ]
  },
  {
   "cell_type": "code",
   "execution_count": 44,
   "metadata": {},
   "outputs": [
    {
     "data": {
      "text/plain": [
       "['fruit', 'vegetable', 'rice', 'milk']"
      ]
     },
     "execution_count": 44,
     "metadata": {},
     "output_type": "execute_result"
    }
   ],
   "source": [
    "list(D.keys())"
   ]
  },
  {
   "cell_type": "markdown",
   "metadata": {},
   "source": [
    "- To create a list of values"
   ]
  },
  {
   "cell_type": "code",
   "execution_count": 32,
   "metadata": {},
   "outputs": [
    {
     "data": {
      "text/plain": [
       "['apple', 'carrot', 2.0, 10, 2.0]"
      ]
     },
     "execution_count": 32,
     "metadata": {},
     "output_type": "execute_result"
    }
   ],
   "source": [
    "list(D.values())"
   ]
  },
  {
   "cell_type": "markdown",
   "metadata": {},
   "source": [
    "- To create Dictionary of with list, tuples and dictionary"
   ]
  },
  {
   "cell_type": "code",
   "execution_count": 1,
   "metadata": {},
   "outputs": [
    {
     "data": {
      "text/plain": [
       "{'names': ('prakash', 'ram', 'pranish'),\n",
       " 'roll no': [1, 2, 3],\n",
       " 'plan': {'first': [12, 34, 56], 'second': [1, 3, 5]}}"
      ]
     },
     "execution_count": 1,
     "metadata": {},
     "output_type": "execute_result"
    }
   ],
   "source": [
    "DD = {\"names\":(\"prakash\",\"ram\", \"pranish\"),\\\n",
    "      \"roll no\": [1,2,3],\\\n",
    "      \"plan\":{\"first\":[12,34,56],\"second\":[1,3,5]}}\n",
    "\n",
    "DD"
   ]
  },
  {
   "cell_type": "code",
   "execution_count": 92,
   "metadata": {},
   "outputs": [
    {
     "name": "stdout",
     "output_type": "stream",
     "text": [
      "[0.  0.1 0.2 0.3 0.4 0.5 0.6 0.7 0.8 0.9 1.  1.1 1.2 1.3 1.4 1.5 1.6 1.7\n",
      " 1.8 1.9 2.  2.1 2.2 2.3 2.4 2.5 2.6 2.7 2.8 2.9 3.  3.1]\n"
     ]
    }
   ],
   "source": [
    "import numpy as np\n",
    "X = np.arange(0,np.pi,0.1)\n",
    "print(X)"
   ]
  },
  {
   "cell_type": "code",
   "execution_count": 2,
   "metadata": {},
   "outputs": [],
   "source": [
    "import numpy as np\n",
    "X = np.arange(0,np.pi,0.1)\n",
    "M = {\"sin\": [np.sin(x) for x in X],\\\n",
    "     \"tan\": [np.cos(x) for x in X],\\\n",
    "     \"plo\":[(x*x+x+1) for x in X],\\\n",
    "     \"trig\": [np.tan(x) + np.sin(x) for x in X]}"
   ]
  },
  {
   "cell_type": "code",
   "execution_count": 94,
   "metadata": {},
   "outputs": [
    {
     "name": "stdout",
     "output_type": "stream",
     "text": [
      "{'sin': [0.0, 0.09983341664682815, 0.19866933079506122, 0.2955202066613396, 0.3894183423086505, 0.479425538604203, 0.5646424733950355, 0.6442176872376911, 0.7173560908995228, 0.7833269096274834, 0.8414709848078965, 0.8912073600614354, 0.9320390859672264, 0.963558185417193, 0.9854497299884603, 0.9974949866040544, 0.9995736030415051, 0.9916648104524686, 0.9738476308781951, 0.9463000876874145, 0.9092974268256817, 0.8632093666488737, 0.8084964038195901, 0.74570521217672, 0.6754631805511506, 0.5984721441039564, 0.5155013718214642, 0.4273798802338298, 0.33498815015590466, 0.23924932921398198, 0.1411200080598672, 0.04158066243329049], 'cos': [1.0, 0.9950041652780258, 0.9800665778412416, 0.955336489125606, 0.9210609940028851, 0.8775825618903728, 0.8253356149096782, 0.7648421872844884, 0.6967067093471654, 0.6216099682706644, 0.5403023058681398, 0.4535961214255773, 0.3623577544766734, 0.26749882862458735, 0.16996714290024081, 0.0707372016677029, -0.029199522301288815, -0.12884449429552486, -0.2272020946930871, -0.3232895668635036, -0.4161468365471424, -0.5048461045998576, -0.5885011172553458, -0.6662760212798244, -0.7373937155412458, -0.8011436155469337, -0.8568887533689473, -0.9040721420170612, -0.9422223406686583, -0.9709581651495907, -0.9899924966004454, -0.9991351502732795], 'plo': [1.0, 1.11, 1.24, 1.3900000000000001, 1.56, 1.75, 1.9600000000000002, 2.1900000000000004, 2.4400000000000004, 2.71, 3.0, 3.3100000000000005, 3.6400000000000006, 3.99, 4.36, 4.75, 5.16, 5.590000000000001, 6.04, 6.510000000000001, 7.0, 7.51, 8.040000000000001, 8.590000000000002, 9.160000000000002, 9.75, 10.360000000000001, 10.990000000000002, 11.640000000000002, 12.310000000000002, 13.0, 13.71], 'trig': [1.0, 1.094837581924854, 1.1787359086363027, 1.2508566957869456, 1.3104793363115357, 1.3570081004945758, 1.3899780883047137, 1.4090598745221796, 1.4140628002466882, 1.4049368778981477, 1.3817732906760363, 1.3448034814870127, 1.2943968404438997, 1.2310570140417803, 1.155416872888701, 1.0682321882717574, 0.9703740807402162, 0.8628203161569437, 0.7466455361851081, 0.623010520823911, 0.4931505902785393, 0.35836326204901614, 0.21999528656424427, 0.0794291908968956, -0.061930534990095154, -0.20267147144297726, -0.34138738154748316, -0.47669226178323143, -0.6072341905127536, -0.7317088359356086, -0.8488724885405782, -0.957554487839989]}\n"
     ]
    }
   ],
   "source": [
    "print(M)"
   ]
  },
  {
   "cell_type": "code",
   "execution_count": 3,
   "metadata": {},
   "outputs": [
    {
     "data": {
      "text/html": [
       "<div>\n",
       "<style scoped>\n",
       "    .dataframe tbody tr th:only-of-type {\n",
       "        vertical-align: middle;\n",
       "    }\n",
       "\n",
       "    .dataframe tbody tr th {\n",
       "        vertical-align: top;\n",
       "    }\n",
       "\n",
       "    .dataframe thead th {\n",
       "        text-align: right;\n",
       "    }\n",
       "</style>\n",
       "<table border=\"1\" class=\"dataframe\">\n",
       "  <thead>\n",
       "    <tr style=\"text-align: right;\">\n",
       "      <th></th>\n",
       "      <th>sin</th>\n",
       "      <th>tan</th>\n",
       "      <th>plo</th>\n",
       "      <th>trig</th>\n",
       "    </tr>\n",
       "  </thead>\n",
       "  <tbody>\n",
       "    <tr>\n",
       "      <th>0</th>\n",
       "      <td>0.000000</td>\n",
       "      <td>1.000000</td>\n",
       "      <td>1.00</td>\n",
       "      <td>0.000000</td>\n",
       "    </tr>\n",
       "    <tr>\n",
       "      <th>1</th>\n",
       "      <td>0.099833</td>\n",
       "      <td>0.995004</td>\n",
       "      <td>1.11</td>\n",
       "      <td>0.200168</td>\n",
       "    </tr>\n",
       "    <tr>\n",
       "      <th>2</th>\n",
       "      <td>0.198669</td>\n",
       "      <td>0.980067</td>\n",
       "      <td>1.24</td>\n",
       "      <td>0.401379</td>\n",
       "    </tr>\n",
       "    <tr>\n",
       "      <th>3</th>\n",
       "      <td>0.295520</td>\n",
       "      <td>0.955336</td>\n",
       "      <td>1.39</td>\n",
       "      <td>0.604856</td>\n",
       "    </tr>\n",
       "    <tr>\n",
       "      <th>4</th>\n",
       "      <td>0.389418</td>\n",
       "      <td>0.921061</td>\n",
       "      <td>1.56</td>\n",
       "      <td>0.812212</td>\n",
       "    </tr>\n",
       "    <tr>\n",
       "      <th>5</th>\n",
       "      <td>0.479426</td>\n",
       "      <td>0.877583</td>\n",
       "      <td>1.75</td>\n",
       "      <td>1.025728</td>\n",
       "    </tr>\n",
       "    <tr>\n",
       "      <th>6</th>\n",
       "      <td>0.564642</td>\n",
       "      <td>0.825336</td>\n",
       "      <td>1.96</td>\n",
       "      <td>1.248779</td>\n",
       "    </tr>\n",
       "    <tr>\n",
       "      <th>7</th>\n",
       "      <td>0.644218</td>\n",
       "      <td>0.764842</td>\n",
       "      <td>2.19</td>\n",
       "      <td>1.486506</td>\n",
       "    </tr>\n",
       "    <tr>\n",
       "      <th>8</th>\n",
       "      <td>0.717356</td>\n",
       "      <td>0.696707</td>\n",
       "      <td>2.44</td>\n",
       "      <td>1.746995</td>\n",
       "    </tr>\n",
       "    <tr>\n",
       "      <th>9</th>\n",
       "      <td>0.783327</td>\n",
       "      <td>0.621610</td>\n",
       "      <td>2.71</td>\n",
       "      <td>2.043485</td>\n",
       "    </tr>\n",
       "    <tr>\n",
       "      <th>10</th>\n",
       "      <td>0.841471</td>\n",
       "      <td>0.540302</td>\n",
       "      <td>3.00</td>\n",
       "      <td>2.398879</td>\n",
       "    </tr>\n",
       "    <tr>\n",
       "      <th>11</th>\n",
       "      <td>0.891207</td>\n",
       "      <td>0.453596</td>\n",
       "      <td>3.31</td>\n",
       "      <td>2.855967</td>\n",
       "    </tr>\n",
       "    <tr>\n",
       "      <th>12</th>\n",
       "      <td>0.932039</td>\n",
       "      <td>0.362358</td>\n",
       "      <td>3.64</td>\n",
       "      <td>3.504191</td>\n",
       "    </tr>\n",
       "    <tr>\n",
       "      <th>13</th>\n",
       "      <td>0.963558</td>\n",
       "      <td>0.267499</td>\n",
       "      <td>3.99</td>\n",
       "      <td>4.565661</td>\n",
       "    </tr>\n",
       "    <tr>\n",
       "      <th>14</th>\n",
       "      <td>0.985450</td>\n",
       "      <td>0.169967</td>\n",
       "      <td>4.36</td>\n",
       "      <td>6.783333</td>\n",
       "    </tr>\n",
       "    <tr>\n",
       "      <th>15</th>\n",
       "      <td>0.997495</td>\n",
       "      <td>0.070737</td>\n",
       "      <td>4.75</td>\n",
       "      <td>15.098915</td>\n",
       "    </tr>\n",
       "    <tr>\n",
       "      <th>16</th>\n",
       "      <td>0.999574</td>\n",
       "      <td>-0.029200</td>\n",
       "      <td>5.16</td>\n",
       "      <td>-33.232959</td>\n",
       "    </tr>\n",
       "    <tr>\n",
       "      <th>17</th>\n",
       "      <td>0.991665</td>\n",
       "      <td>-0.128844</td>\n",
       "      <td>5.59</td>\n",
       "      <td>-6.704937</td>\n",
       "    </tr>\n",
       "    <tr>\n",
       "      <th>18</th>\n",
       "      <td>0.973848</td>\n",
       "      <td>-0.227202</td>\n",
       "      <td>6.04</td>\n",
       "      <td>-3.312414</td>\n",
       "    </tr>\n",
       "    <tr>\n",
       "      <th>19</th>\n",
       "      <td>0.946300</td>\n",
       "      <td>-0.323290</td>\n",
       "      <td>6.51</td>\n",
       "      <td>-1.980797</td>\n",
       "    </tr>\n",
       "    <tr>\n",
       "      <th>20</th>\n",
       "      <td>0.909297</td>\n",
       "      <td>-0.416147</td>\n",
       "      <td>7.00</td>\n",
       "      <td>-1.275742</td>\n",
       "    </tr>\n",
       "    <tr>\n",
       "      <th>21</th>\n",
       "      <td>0.863209</td>\n",
       "      <td>-0.504846</td>\n",
       "      <td>7.51</td>\n",
       "      <td>-0.846637</td>\n",
       "    </tr>\n",
       "    <tr>\n",
       "      <th>22</th>\n",
       "      <td>0.808496</td>\n",
       "      <td>-0.588501</td>\n",
       "      <td>8.04</td>\n",
       "      <td>-0.565327</td>\n",
       "    </tr>\n",
       "    <tr>\n",
       "      <th>23</th>\n",
       "      <td>0.745705</td>\n",
       "      <td>-0.666276</td>\n",
       "      <td>8.59</td>\n",
       "      <td>-0.373508</td>\n",
       "    </tr>\n",
       "    <tr>\n",
       "      <th>24</th>\n",
       "      <td>0.675463</td>\n",
       "      <td>-0.737394</td>\n",
       "      <td>9.16</td>\n",
       "      <td>-0.240551</td>\n",
       "    </tr>\n",
       "    <tr>\n",
       "      <th>25</th>\n",
       "      <td>0.598472</td>\n",
       "      <td>-0.801144</td>\n",
       "      <td>9.75</td>\n",
       "      <td>-0.148550</td>\n",
       "    </tr>\n",
       "    <tr>\n",
       "      <th>26</th>\n",
       "      <td>0.515501</td>\n",
       "      <td>-0.856889</td>\n",
       "      <td>10.36</td>\n",
       "      <td>-0.086095</td>\n",
       "    </tr>\n",
       "    <tr>\n",
       "      <th>27</th>\n",
       "      <td>0.427380</td>\n",
       "      <td>-0.904072</td>\n",
       "      <td>10.99</td>\n",
       "      <td>-0.045348</td>\n",
       "    </tr>\n",
       "    <tr>\n",
       "      <th>28</th>\n",
       "      <td>0.334988</td>\n",
       "      <td>-0.942222</td>\n",
       "      <td>11.64</td>\n",
       "      <td>-0.020542</td>\n",
       "    </tr>\n",
       "    <tr>\n",
       "      <th>29</th>\n",
       "      <td>0.239249</td>\n",
       "      <td>-0.970958</td>\n",
       "      <td>12.31</td>\n",
       "      <td>-0.007156</td>\n",
       "    </tr>\n",
       "    <tr>\n",
       "      <th>30</th>\n",
       "      <td>0.141120</td>\n",
       "      <td>-0.989992</td>\n",
       "      <td>13.00</td>\n",
       "      <td>-0.001427</td>\n",
       "    </tr>\n",
       "    <tr>\n",
       "      <th>31</th>\n",
       "      <td>0.041581</td>\n",
       "      <td>-0.999135</td>\n",
       "      <td>13.71</td>\n",
       "      <td>-0.000036</td>\n",
       "    </tr>\n",
       "  </tbody>\n",
       "</table>\n",
       "</div>"
      ],
      "text/plain": [
       "         sin       tan    plo       trig\n",
       "0   0.000000  1.000000   1.00   0.000000\n",
       "1   0.099833  0.995004   1.11   0.200168\n",
       "2   0.198669  0.980067   1.24   0.401379\n",
       "3   0.295520  0.955336   1.39   0.604856\n",
       "4   0.389418  0.921061   1.56   0.812212\n",
       "5   0.479426  0.877583   1.75   1.025728\n",
       "6   0.564642  0.825336   1.96   1.248779\n",
       "7   0.644218  0.764842   2.19   1.486506\n",
       "8   0.717356  0.696707   2.44   1.746995\n",
       "9   0.783327  0.621610   2.71   2.043485\n",
       "10  0.841471  0.540302   3.00   2.398879\n",
       "11  0.891207  0.453596   3.31   2.855967\n",
       "12  0.932039  0.362358   3.64   3.504191\n",
       "13  0.963558  0.267499   3.99   4.565661\n",
       "14  0.985450  0.169967   4.36   6.783333\n",
       "15  0.997495  0.070737   4.75  15.098915\n",
       "16  0.999574 -0.029200   5.16 -33.232959\n",
       "17  0.991665 -0.128844   5.59  -6.704937\n",
       "18  0.973848 -0.227202   6.04  -3.312414\n",
       "19  0.946300 -0.323290   6.51  -1.980797\n",
       "20  0.909297 -0.416147   7.00  -1.275742\n",
       "21  0.863209 -0.504846   7.51  -0.846637\n",
       "22  0.808496 -0.588501   8.04  -0.565327\n",
       "23  0.745705 -0.666276   8.59  -0.373508\n",
       "24  0.675463 -0.737394   9.16  -0.240551\n",
       "25  0.598472 -0.801144   9.75  -0.148550\n",
       "26  0.515501 -0.856889  10.36  -0.086095\n",
       "27  0.427380 -0.904072  10.99  -0.045348\n",
       "28  0.334988 -0.942222  11.64  -0.020542\n",
       "29  0.239249 -0.970958  12.31  -0.007156\n",
       "30  0.141120 -0.989992  13.00  -0.001427\n",
       "31  0.041581 -0.999135  13.71  -0.000036"
      ]
     },
     "execution_count": 3,
     "metadata": {},
     "output_type": "execute_result"
    }
   ],
   "source": [
    "import pandas as pd\n",
    "DF = pd.DataFrame(M)\n",
    "DF"
   ]
  },
  {
   "cell_type": "code",
   "execution_count": 4,
   "metadata": {},
   "outputs": [
    {
     "data": {
      "text/plain": [
       "<matplotlib.axes._subplots.AxesSubplot at 0x1630060da88>"
      ]
     },
     "execution_count": 4,
     "metadata": {},
     "output_type": "execute_result"
    },
    {
     "data": {
      "image/png": "[encoded data removed]",
      "text/plain": [
       "<Figure size 432x288 with 1 Axes>"
      ]
     },
     "metadata": {
      "needs_background": "light"
     },
     "output_type": "display_data"
    }
   ],
   "source": [
    "%matplotlib inline\n",
    "DF.plot()"
   ]
  },
  {
   "cell_type": "markdown",
   "metadata": {},
   "source": [
    "### References:\n",
    "1. https://docs.python.org/3/tutorial/index.html"
   ]
  }
 ],
 "metadata": {
  "kernelspec": {
   "display_name": "Python 3",
   "language": "python",
   "name": "python3"
  },
  "language_info": {
   "codemirror_mode": {
    "name": "ipython",
    "version": 3
   },
   "file_extension": ".py",
   "mimetype": "text/x-python",
   "name": "python",
   "nbconvert_exporter": "python",
   "pygments_lexer": "ipython3",
   "version": "3.7.6"
  }
 },
 "nbformat": 4,
 "nbformat_minor": 2
}
